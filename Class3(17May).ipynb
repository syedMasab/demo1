{
 "cells": [
  {
   "cell_type": "code",
   "execution_count": 2,
   "id": "a86271bc",
   "metadata": {},
   "outputs": [],
   "source": [
    "name = \"Pakistan\"\n",
    "dob = 1947"
   ]
  },
  {
   "cell_type": "code",
   "execution_count": 3,
   "id": "0a807b3e",
   "metadata": {},
   "outputs": [
    {
     "name": "stdout",
     "output_type": "stream",
     "text": [
      "I am your country Pakistan i was born in 1947\n"
     ]
    }
   ],
   "source": [
    "print(f\"I am your country {name} i was born in {dob}\")"
   ]
  },
  {
   "cell_type": "code",
   "execution_count": 4,
   "id": "004cd80f",
   "metadata": {},
   "outputs": [],
   "source": [
    "value1 = \"I am a string value\"\n",
    "value2 = 'I am also a string value'\n",
    "value3 = '''I am another string value'''\n"
   ]
  },
  {
   "cell_type": "raw",
   "id": "6be96938",
   "metadata": {},
   "source": [
    "You are all students of \"Saylani Mass IT Training Dept\""
   ]
  },
  {
   "cell_type": "code",
   "execution_count": 7,
   "id": "6764d1bf",
   "metadata": {},
   "outputs": [
    {
     "name": "stdout",
     "output_type": "stream",
     "text": [
      "You are all students of \"Saylani Mass IT Training Dept\"\n"
     ]
    }
   ],
   "source": [
    "print(\"You are all students of \\\"Saylani Mass IT Training Dept\\\"\")"
   ]
  },
  {
   "cell_type": "markdown",
   "id": "63b3eb38",
   "metadata": {},
   "source": [
    "# Multiline String formation"
   ]
  },
  {
   "cell_type": "raw",
   "id": "a7acf2fc",
   "metadata": {},
   "source": [
    "        Saylani Mass IT \n",
    "        \n",
    "Name: Nasir Hussain \n",
    "Course: AI & Ds\n",
    "Class: 7 - 10\n"
   ]
  },
  {
   "cell_type": "code",
   "execution_count": 12,
   "id": "2a65d567",
   "metadata": {},
   "outputs": [
    {
     "name": "stdout",
     "output_type": "stream",
     "text": [
      "\tSaylani Mass IT \n",
      "\n",
      " Name: Nasir Hussain \n",
      " Course: AI & Ds \n",
      " Class: 7 - 10\n"
     ]
    }
   ],
   "source": [
    "print(\"\\tSaylani Mass IT \\n\\n Name: Nasir Hussain \\n Course: AI & Ds \\n Class: 7 - 10\")"
   ]
  },
  {
   "cell_type": "code",
   "execution_count": 14,
   "id": "f5306c18",
   "metadata": {},
   "outputs": [
    {
     "name": "stdout",
     "output_type": "stream",
     "text": [
      "Enter your name:Nasir\n",
      "Course name:Python\n",
      "Class time2-4\n",
      "       Saylani MASS IT Training\n",
      "Name:Nasir\n",
      "Course:Python\n",
      "Class:2-4\n",
      "\n"
     ]
    }
   ],
   "source": [
    "student_name = input(\"Enter your name:\")\n",
    "course = input(\"Course name:\")\n",
    "classtime = input(\"Class time\")\n",
    "\n",
    "print(f\"\"\"       Saylani MASS IT Training\n",
    "Name:{student_name}\n",
    "Course:{course}\n",
    "Class:{classtime}\n",
    "\"\"\")\n"
   ]
  },
  {
   "cell_type": "code",
   "execution_count": 20,
   "id": "8fa81098",
   "metadata": {},
   "outputs": [],
   "source": [
    "country = \"pakistan\""
   ]
  },
  {
   "cell_type": "code",
   "execution_count": 22,
   "id": "cef808a9",
   "metadata": {},
   "outputs": [
    {
     "name": "stdout",
     "output_type": "stream",
     "text": [
      "<class 'str'>\n"
     ]
    }
   ],
   "source": [
    "print(type(country))"
   ]
  },
  {
   "cell_type": "code",
   "execution_count": 23,
   "id": "baacea72",
   "metadata": {},
   "outputs": [
    {
     "data": {
      "text/plain": [
       "'Pakistan'"
      ]
     },
     "execution_count": 23,
     "metadata": {},
     "output_type": "execute_result"
    }
   ],
   "source": [
    "country.capitalize()"
   ]
  },
  {
   "cell_type": "code",
   "execution_count": 24,
   "id": "ce179201",
   "metadata": {},
   "outputs": [
    {
     "data": {
      "text/plain": [
       "'PAKISTAN'"
      ]
     },
     "execution_count": 24,
     "metadata": {},
     "output_type": "execute_result"
    }
   ],
   "source": [
    "country.upper()"
   ]
  },
  {
   "cell_type": "code",
   "execution_count": 25,
   "id": "a40b86d4",
   "metadata": {},
   "outputs": [
    {
     "data": {
      "text/plain": [
       "'pakistan'"
      ]
     },
     "execution_count": 25,
     "metadata": {},
     "output_type": "execute_result"
    }
   ],
   "source": [
    "country.lower()"
   ]
  },
  {
   "cell_type": "code",
   "execution_count": 30,
   "id": "8a107ffe",
   "metadata": {},
   "outputs": [],
   "source": [
    "para = \"We are studying AI and DS. Thanks SMIT for their efforts AI & DS\""
   ]
  },
  {
   "cell_type": "code",
   "execution_count": 31,
   "id": "9c1bef58",
   "metadata": {},
   "outputs": [
    {
     "data": {
      "text/plain": [
       "16"
      ]
     },
     "execution_count": 31,
     "metadata": {},
     "output_type": "execute_result"
    }
   ],
   "source": [
    "para.find(\"AI\")"
   ]
  },
  {
   "cell_type": "code",
   "execution_count": 32,
   "id": "77f60ac3",
   "metadata": {},
   "outputs": [
    {
     "data": {
      "text/plain": [
       "57"
      ]
     },
     "execution_count": 32,
     "metadata": {},
     "output_type": "execute_result"
    }
   ],
   "source": [
    "para.find(\"AI\",17)"
   ]
  },
  {
   "cell_type": "code",
   "execution_count": 37,
   "id": "283c1815",
   "metadata": {},
   "outputs": [
    {
     "data": {
      "text/plain": [
       "-1"
      ]
     },
     "execution_count": 37,
     "metadata": {},
     "output_type": "execute_result"
    }
   ],
   "source": [
    "para.lower().find(\"Nasir\")"
   ]
  },
  {
   "cell_type": "code",
   "execution_count": 33,
   "id": "f85a4b91",
   "metadata": {},
   "outputs": [
    {
     "data": {
      "text/plain": [
       "2"
      ]
     },
     "execution_count": 33,
     "metadata": {},
     "output_type": "execute_result"
    }
   ],
   "source": [
    "para.count(\"AI\")"
   ]
  },
  {
   "cell_type": "code",
   "execution_count": 35,
   "id": "e0d727a1",
   "metadata": {},
   "outputs": [
    {
     "data": {
      "text/plain": [
       "'S'"
      ]
     },
     "execution_count": 35,
     "metadata": {},
     "output_type": "execute_result"
    }
   ],
   "source": [
    "para[-1]"
   ]
  },
  {
   "cell_type": "code",
   "execution_count": 48,
   "id": "1d8a74bb",
   "metadata": {},
   "outputs": [
    {
     "data": {
      "text/plain": [
       "7"
      ]
     },
     "execution_count": 48,
     "metadata": {},
     "output_type": "execute_result"
    }
   ],
   "source": [
    "country = \" Nasir \"\n",
    "len(country)"
   ]
  },
  {
   "cell_type": "code",
   "execution_count": 51,
   "id": "5dd8274f",
   "metadata": {},
   "outputs": [
    {
     "data": {
      "text/plain": [
       "'Nasir'"
      ]
     },
     "execution_count": 51,
     "metadata": {},
     "output_type": "execute_result"
    }
   ],
   "source": [
    "# country.lstrip()\n",
    "# country.rstrip()\n",
    "country.strip()"
   ]
  },
  {
   "cell_type": "code",
   "execution_count": 39,
   "id": "326c5470",
   "metadata": {},
   "outputs": [
    {
     "data": {
      "text/plain": [
       "True"
      ]
     },
     "execution_count": 39,
     "metadata": {},
     "output_type": "execute_result"
    }
   ],
   "source": [
    "\"abcd\".isalpha()"
   ]
  },
  {
   "cell_type": "code",
   "execution_count": 40,
   "id": "0963bcd0",
   "metadata": {},
   "outputs": [
    {
     "data": {
      "text/plain": [
       "False"
      ]
     },
     "execution_count": 40,
     "metadata": {},
     "output_type": "execute_result"
    }
   ],
   "source": [
    "\"123\".isalpha()"
   ]
  },
  {
   "cell_type": "code",
   "execution_count": 54,
   "id": "da485a7a",
   "metadata": {},
   "outputs": [],
   "source": [
    "country=\"Pakistan\""
   ]
  },
  {
   "cell_type": "code",
   "execution_count": 57,
   "id": "e5b1f58a",
   "metadata": {},
   "outputs": [],
   "source": [
    "upper_country  = country.upper()"
   ]
  },
  {
   "cell_type": "code",
   "execution_count": 58,
   "id": "f8a55102",
   "metadata": {},
   "outputs": [
    {
     "data": {
      "text/plain": [
       "'Pakistan'"
      ]
     },
     "execution_count": 58,
     "metadata": {},
     "output_type": "execute_result"
    }
   ],
   "source": [
    "country"
   ]
  },
  {
   "cell_type": "code",
   "execution_count": 59,
   "id": "cc892288",
   "metadata": {},
   "outputs": [
    {
     "data": {
      "text/plain": [
       "'P'"
      ]
     },
     "execution_count": 59,
     "metadata": {},
     "output_type": "execute_result"
    }
   ],
   "source": [
    "country[0]"
   ]
  },
  {
   "cell_type": "code",
   "execution_count": 60,
   "id": "001a6a1c",
   "metadata": {},
   "outputs": [
    {
     "data": {
      "text/plain": [
       "'s'"
      ]
     },
     "execution_count": 60,
     "metadata": {},
     "output_type": "execute_result"
    }
   ],
   "source": [
    "country[4]"
   ]
  },
  {
   "cell_type": "code",
   "execution_count": 61,
   "id": "c61f3485",
   "metadata": {},
   "outputs": [
    {
     "ename": "TypeError",
     "evalue": "'str' object does not support item assignment",
     "output_type": "error",
     "traceback": [
      "\u001b[1;31m---------------------------------------------------------------------------\u001b[0m",
      "\u001b[1;31mTypeError\u001b[0m                                 Traceback (most recent call last)",
      "\u001b[1;32mC:\\Users\\LAB-01~1\\AppData\\Local\\Temp/ipykernel_8576/3073287657.py\u001b[0m in \u001b[0;36m<module>\u001b[1;34m\u001b[0m\n\u001b[1;32m----> 1\u001b[1;33m \u001b[0mcountry\u001b[0m\u001b[1;33m[\u001b[0m\u001b[1;36m0\u001b[0m\u001b[1;33m]\u001b[0m \u001b[1;33m=\u001b[0m \u001b[1;34m\"p\"\u001b[0m\u001b[1;33m\u001b[0m\u001b[1;33m\u001b[0m\u001b[0m\n\u001b[0m",
      "\u001b[1;31mTypeError\u001b[0m: 'str' object does not support item assignment"
     ]
    }
   ],
   "source": [
    "country[0] = \"p\""
   ]
  },
  {
   "cell_type": "code",
   "execution_count": 62,
   "id": "400cd37e",
   "metadata": {},
   "outputs": [],
   "source": [
    "a = 1234566778"
   ]
  },
  {
   "cell_type": "code",
   "execution_count": 63,
   "id": "af174e40",
   "metadata": {},
   "outputs": [
    {
     "ename": "TypeError",
     "evalue": "'int' object is not subscriptable",
     "output_type": "error",
     "traceback": [
      "\u001b[1;31m---------------------------------------------------------------------------\u001b[0m",
      "\u001b[1;31mTypeError\u001b[0m                                 Traceback (most recent call last)",
      "\u001b[1;32mC:\\Users\\LAB-01~1\\AppData\\Local\\Temp/ipykernel_8576/1109539928.py\u001b[0m in \u001b[0;36m<module>\u001b[1;34m\u001b[0m\n\u001b[1;32m----> 1\u001b[1;33m \u001b[0ma\u001b[0m\u001b[1;33m[\u001b[0m\u001b[1;36m0\u001b[0m\u001b[1;33m]\u001b[0m\u001b[1;33m\u001b[0m\u001b[1;33m\u001b[0m\u001b[0m\n\u001b[0m",
      "\u001b[1;31mTypeError\u001b[0m: 'int' object is not subscriptable"
     ]
    }
   ],
   "source": [
    "a[0]"
   ]
  },
  {
   "cell_type": "code",
   "execution_count": 66,
   "id": "793f05bb",
   "metadata": {},
   "outputs": [],
   "source": [
    "sen =\"python\""
   ]
  },
  {
   "cell_type": "code",
   "execution_count": 67,
   "id": "06d3ef6d",
   "metadata": {},
   "outputs": [
    {
     "data": {
      "text/plain": [
       "'p-y-t-h-o-n'"
      ]
     },
     "execution_count": 67,
     "metadata": {},
     "output_type": "execute_result"
    }
   ],
   "source": [
    "\"-\".join(sen)"
   ]
  },
  {
   "cell_type": "code",
   "execution_count": null,
   "id": "aea266e3",
   "metadata": {},
   "outputs": [],
   "source": []
  }
 ],
 "metadata": {
  "kernelspec": {
   "display_name": "Python 3 (ipykernel)",
   "language": "python",
   "name": "python3"
  },
  "language_info": {
   "codemirror_mode": {
    "name": "ipython",
    "version": 3
   },
   "file_extension": ".py",
   "mimetype": "text/x-python",
   "name": "python",
   "nbconvert_exporter": "python",
   "pygments_lexer": "ipython3",
   "version": "3.9.7"
  }
 },
 "nbformat": 4,
 "nbformat_minor": 5
}
