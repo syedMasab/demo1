{
 "cells": [
  {
   "cell_type": "markdown",
   "id": "44259747",
   "metadata": {},
   "source": [
    "# Print Function"
   ]
  },
  {
   "cell_type": "raw",
   "id": "da3c305b",
   "metadata": {},
   "source": [
    "Print is a python buit-in function/statement ()"
   ]
  },
  {
   "cell_type": "code",
   "execution_count": 7,
   "id": "22671e99",
   "metadata": {},
   "outputs": [
    {
     "name": "stdout",
     "output_type": "stream",
     "text": [
      "Pakistan Zindabad\n"
     ]
    }
   ],
   "source": [
    "print(\"Pakistan Zindabad\")\n",
    "#name       Argument\n"
   ]
  },
  {
   "cell_type": "code",
   "execution_count": 3,
   "id": "23c8d5e0",
   "metadata": {},
   "outputs": [
    {
     "name": "stdout",
     "output_type": "stream",
     "text": [
      "I am a string value 11 12.5 True False\n"
     ]
    }
   ],
   "source": [
    "print(\"I am a string value\", 11, 12.5, True ,False)"
   ]
  },
  {
   "cell_type": "code",
   "execution_count": 6,
   "id": "6458de27",
   "metadata": {},
   "outputs": [
    {
     "name": "stdout",
     "output_type": "stream",
     "text": [
      "I am a string value********11********12.5********True********False\n"
     ]
    }
   ],
   "source": [
    "print(\"I am a string value\", 11, 12.5, True ,False,sep=\"********\")"
   ]
  },
  {
   "cell_type": "code",
   "execution_count": 11,
   "id": "4f205122",
   "metadata": {},
   "outputs": [
    {
     "name": "stdout",
     "output_type": "stream",
     "text": [
      "Python for all\t\t\tHello python\n"
     ]
    }
   ],
   "source": [
    "print(\"Python for all\",end=\"\\t\\t\\t\")\n",
    "print(\"Hello python\")"
   ]
  },
  {
   "cell_type": "markdown",
   "id": "8b66dd35",
   "metadata": {},
   "source": [
    "# Data Types in Python\n",
    "\n",
    "- String (str)\n",
    "- Integer  (int)\n",
    "- Float   (float)\n",
    "- Boolean  (True/False)"
   ]
  },
  {
   "cell_type": "markdown",
   "id": "9f2212cc",
   "metadata": {},
   "source": [
    "# Variables for String"
   ]
  },
  {
   "cell_type": "code",
   "execution_count": 16,
   "id": "36d5c497",
   "metadata": {},
   "outputs": [],
   "source": [
    "age = 23.7\n",
    "\n",
    "# Age is a varaible\n",
    "# 23.7 is a value\n",
    "# we can say 23.7 is assigned to age\n",
    "#  = >>>> assignment operator"
   ]
  },
  {
   "cell_type": "code",
   "execution_count": 15,
   "id": "62ae3dea",
   "metadata": {},
   "outputs": [],
   "source": [
    "name = \"Nasir Hussain\""
   ]
  },
  {
   "cell_type": "code",
   "execution_count": 17,
   "id": "f029ca57",
   "metadata": {},
   "outputs": [
    {
     "data": {
      "text/plain": [
       "23.7"
      ]
     },
     "execution_count": 17,
     "metadata": {},
     "output_type": "execute_result"
    }
   ],
   "source": [
    "age"
   ]
  },
  {
   "cell_type": "code",
   "execution_count": 18,
   "id": "b5f16125",
   "metadata": {},
   "outputs": [
    {
     "data": {
      "text/plain": [
       "'Nasir Hussain'"
      ]
     },
     "execution_count": 18,
     "metadata": {},
     "output_type": "execute_result"
    }
   ],
   "source": [
    "name"
   ]
  },
  {
   "cell_type": "code",
   "execution_count": 19,
   "id": "fface241",
   "metadata": {},
   "outputs": [
    {
     "data": {
      "text/plain": [
       "2985567609904"
      ]
     },
     "execution_count": 19,
     "metadata": {},
     "output_type": "execute_result"
    }
   ],
   "source": [
    "id(age)"
   ]
  },
  {
   "cell_type": "code",
   "execution_count": 20,
   "id": "0be458c0",
   "metadata": {},
   "outputs": [
    {
     "data": {
      "text/plain": [
       "float"
      ]
     },
     "execution_count": 20,
     "metadata": {},
     "output_type": "execute_result"
    }
   ],
   "source": [
    "type(age)"
   ]
  },
  {
   "cell_type": "code",
   "execution_count": 21,
   "id": "aa173c04",
   "metadata": {},
   "outputs": [
    {
     "data": {
      "text/plain": [
       "str"
      ]
     },
     "execution_count": 21,
     "metadata": {},
     "output_type": "execute_result"
    }
   ],
   "source": [
    "type(name)"
   ]
  },
  {
   "cell_type": "markdown",
   "id": "17c165fe",
   "metadata": {},
   "source": [
    "# Operators\n",
    "\n",
    "- Addition (+)\n",
    "- Subtraction (-)\n",
    "- Multiplication (*)\n",
    "- Division (/) and (//)\n"
   ]
  },
  {
   "cell_type": "code",
   "execution_count": 22,
   "id": "63d7c6b9",
   "metadata": {},
   "outputs": [],
   "source": [
    "marks = 45"
   ]
  },
  {
   "cell_type": "code",
   "execution_count": 23,
   "id": "6e42a9b9",
   "metadata": {},
   "outputs": [
    {
     "data": {
      "text/plain": [
       "95"
      ]
     },
     "execution_count": 23,
     "metadata": {},
     "output_type": "execute_result"
    }
   ],
   "source": [
    "marks + 50"
   ]
  },
  {
   "cell_type": "code",
   "execution_count": 24,
   "id": "7132dd0d",
   "metadata": {},
   "outputs": [
    {
     "data": {
      "text/plain": [
       "45"
      ]
     },
     "execution_count": 24,
     "metadata": {},
     "output_type": "execute_result"
    }
   ],
   "source": [
    "marks"
   ]
  },
  {
   "cell_type": "code",
   "execution_count": 25,
   "id": "44eb1c00",
   "metadata": {},
   "outputs": [
    {
     "data": {
      "text/plain": [
       "68.7"
      ]
     },
     "execution_count": 25,
     "metadata": {},
     "output_type": "execute_result"
    }
   ],
   "source": [
    "marks + age"
   ]
  },
  {
   "cell_type": "code",
   "execution_count": 26,
   "id": "57d22ebe",
   "metadata": {},
   "outputs": [
    {
     "data": {
      "text/plain": [
       "24.7"
      ]
     },
     "execution_count": 26,
     "metadata": {},
     "output_type": "execute_result"
    }
   ],
   "source": [
    "age+1"
   ]
  },
  {
   "cell_type": "code",
   "execution_count": 31,
   "id": "914c69f3",
   "metadata": {},
   "outputs": [],
   "source": [
    "age = age + 1 "
   ]
  },
  {
   "cell_type": "code",
   "execution_count": 32,
   "id": "d00c12b1",
   "metadata": {},
   "outputs": [
    {
     "data": {
      "text/plain": [
       "26.7"
      ]
     },
     "execution_count": 32,
     "metadata": {},
     "output_type": "execute_result"
    }
   ],
   "source": [
    "age"
   ]
  },
  {
   "cell_type": "code",
   "execution_count": 38,
   "id": "830dc78e",
   "metadata": {},
   "outputs": [],
   "source": [
    "age +=1"
   ]
  },
  {
   "cell_type": "code",
   "execution_count": 39,
   "id": "f177ec33",
   "metadata": {},
   "outputs": [
    {
     "data": {
      "text/plain": [
       "32.7"
      ]
     },
     "execution_count": 39,
     "metadata": {},
     "output_type": "execute_result"
    }
   ],
   "source": [
    "age"
   ]
  },
  {
   "cell_type": "code",
   "execution_count": 48,
   "id": "db325617",
   "metadata": {},
   "outputs": [
    {
     "data": {
      "text/plain": [
       "23.700000000000003"
      ]
     },
     "execution_count": 48,
     "metadata": {},
     "output_type": "execute_result"
    }
   ],
   "source": [
    "age -=1\n",
    "age"
   ]
  },
  {
   "cell_type": "markdown",
   "id": "fc143d1d",
   "metadata": {},
   "source": [
    "Divsion: By default python division is float"
   ]
  },
  {
   "cell_type": "code",
   "execution_count": 54,
   "id": "e18c7723",
   "metadata": {},
   "outputs": [
    {
     "data": {
      "text/plain": [
       "3"
      ]
     },
     "execution_count": 54,
     "metadata": {},
     "output_type": "execute_result"
    }
   ],
   "source": [
    "10//3"
   ]
  },
  {
   "cell_type": "code",
   "execution_count": 55,
   "id": "618f99f7",
   "metadata": {},
   "outputs": [],
   "source": [
    "import math "
   ]
  },
  {
   "cell_type": "code",
   "execution_count": 56,
   "id": "387d669c",
   "metadata": {},
   "outputs": [
    {
     "data": {
      "text/plain": [
       "23"
      ]
     },
     "execution_count": 56,
     "metadata": {},
     "output_type": "execute_result"
    }
   ],
   "source": [
    "math.floor(23.9)"
   ]
  },
  {
   "cell_type": "code",
   "execution_count": 57,
   "id": "843280da",
   "metadata": {},
   "outputs": [
    {
     "data": {
      "text/plain": [
       "24"
      ]
     },
     "execution_count": 57,
     "metadata": {},
     "output_type": "execute_result"
    }
   ],
   "source": [
    "math.ceil(23.1)"
   ]
  },
  {
   "cell_type": "markdown",
   "id": "7e53f228",
   "metadata": {},
   "source": [
    "# Variable names Legal and Illegal "
   ]
  },
  {
   "cell_type": "code",
   "execution_count": 58,
   "id": "11badc56",
   "metadata": {},
   "outputs": [],
   "source": [
    "print = \"Hello\""
   ]
  },
  {
   "cell_type": "code",
   "execution_count": 59,
   "id": "41c9e5ba",
   "metadata": {},
   "outputs": [
    {
     "data": {
      "text/plain": [
       "'Hello'"
      ]
     },
     "execution_count": 59,
     "metadata": {},
     "output_type": "execute_result"
    }
   ],
   "source": [
    "print"
   ]
  },
  {
   "cell_type": "code",
   "execution_count": 60,
   "id": "b1f07af0",
   "metadata": {},
   "outputs": [
    {
     "ename": "SyntaxError",
     "evalue": "invalid syntax (Temp/ipykernel_6976/567253053.py, line 1)",
     "output_type": "error",
     "traceback": [
      "\u001b[1;36m  File \u001b[1;32m\"C:\\Users\\LAB-01~1\\AppData\\Local\\Temp/ipykernel_6976/567253053.py\"\u001b[1;36m, line \u001b[1;32m1\u001b[0m\n\u001b[1;33m    else = \"Heelo\"\u001b[0m\n\u001b[1;37m    ^\u001b[0m\n\u001b[1;31mSyntaxError\u001b[0m\u001b[1;31m:\u001b[0m invalid syntax\n"
     ]
    }
   ],
   "source": [
    "else = \"Heelo\""
   ]
  },
  {
   "cell_type": "markdown",
   "id": "f77024cd",
   "metadata": {},
   "source": [
    "Reserved words cannot be used as  a variable name"
   ]
  },
  {
   "cell_type": "raw",
   "id": "470f3faf",
   "metadata": {},
   "source": [
    "# Space can not be included in variable name"
   ]
  },
  {
   "cell_type": "code",
   "execution_count": 61,
   "id": "9913bb5e",
   "metadata": {},
   "outputs": [
    {
     "ename": "SyntaxError",
     "evalue": "invalid syntax (Temp/ipykernel_6976/2771933092.py, line 1)",
     "output_type": "error",
     "traceback": [
      "\u001b[1;36m  File \u001b[1;32m\"C:\\Users\\LAB-01~1\\AppData\\Local\\Temp/ipykernel_6976/2771933092.py\"\u001b[1;36m, line \u001b[1;32m1\u001b[0m\n\u001b[1;33m    father name  = \"Khan\"\u001b[0m\n\u001b[1;37m           ^\u001b[0m\n\u001b[1;31mSyntaxError\u001b[0m\u001b[1;31m:\u001b[0m invalid syntax\n"
     ]
    }
   ],
   "source": [
    "father name  = \"Khan\""
   ]
  },
  {
   "cell_type": "raw",
   "id": "76f3fedf",
   "metadata": {},
   "source": [
    "Variable name can not be atarted with A NUMBER"
   ]
  },
  {
   "cell_type": "code",
   "execution_count": 62,
   "id": "3d3e206d",
   "metadata": {},
   "outputs": [
    {
     "ename": "SyntaxError",
     "evalue": "invalid syntax (Temp/ipykernel_6976/452052611.py, line 1)",
     "output_type": "error",
     "traceback": [
      "\u001b[1;36m  File \u001b[1;32m\"C:\\Users\\LAB-01~1\\AppData\\Local\\Temp/ipykernel_6976/452052611.py\"\u001b[1;36m, line \u001b[1;32m1\u001b[0m\n\u001b[1;33m    1student = \"Ali\"\u001b[0m\n\u001b[1;37m     ^\u001b[0m\n\u001b[1;31mSyntaxError\u001b[0m\u001b[1;31m:\u001b[0m invalid syntax\n"
     ]
    }
   ],
   "source": [
    "1student = \"Ali\""
   ]
  },
  {
   "cell_type": "markdown",
   "id": "22dfd9bb",
   "metadata": {},
   "source": [
    "Special characters can niot be used in Variable "
   ]
  },
  {
   "cell_type": "code",
   "execution_count": 64,
   "id": "cf7b09ec",
   "metadata": {},
   "outputs": [
    {
     "ename": "SyntaxError",
     "evalue": "invalid syntax (Temp/ipykernel_6976/530348908.py, line 2)",
     "output_type": "error",
     "traceback": [
      "\u001b[1;36m  File \u001b[1;32m\"C:\\Users\\LAB-01~1\\AppData\\Local\\Temp/ipykernel_6976/530348908.py\"\u001b[1;36m, line \u001b[1;32m2\u001b[0m\n\u001b[1;33m    father!name\u001b[0m\n\u001b[1;37m          ^\u001b[0m\n\u001b[1;31mSyntaxError\u001b[0m\u001b[1;31m:\u001b[0m invalid syntax\n"
     ]
    }
   ],
   "source": [
    "father@name\n",
    "father!name\n",
    "father#name\n",
    "father$name\n",
    "father?name\n",
    "father-name\n",
    "father.name"
   ]
  },
  {
   "cell_type": "code",
   "execution_count": 65,
   "id": "8d87f997",
   "metadata": {},
   "outputs": [],
   "source": [
    "father_name = \"Asif\""
   ]
  },
  {
   "cell_type": "code",
   "execution_count": 66,
   "id": "f4aabb41",
   "metadata": {},
   "outputs": [],
   "source": [
    "fatherName = 'Asif'"
   ]
  },
  {
   "cell_type": "code",
   "execution_count": 67,
   "id": "f4cb7e1f",
   "metadata": {},
   "outputs": [],
   "source": [
    "my_new_book= \"Programming\""
   ]
  },
  {
   "cell_type": "code",
   "execution_count": 68,
   "id": "101bb306",
   "metadata": {},
   "outputs": [],
   "source": [
    "student1 = \"saad\""
   ]
  },
  {
   "cell_type": "code",
   "execution_count": 69,
   "id": "084cba52",
   "metadata": {},
   "outputs": [],
   "source": [
    "student1name=\"asad\""
   ]
  },
  {
   "cell_type": "code",
   "execution_count": 70,
   "id": "09e2c90f",
   "metadata": {},
   "outputs": [],
   "source": [
    "name = \"Nasir\""
   ]
  },
  {
   "cell_type": "code",
   "execution_count": 71,
   "id": "35703229",
   "metadata": {},
   "outputs": [],
   "source": [
    "name = \"Hassan\""
   ]
  },
  {
   "cell_type": "code",
   "execution_count": 72,
   "id": "fdafe271",
   "metadata": {},
   "outputs": [],
   "source": [
    "Z= \"FAHAD\""
   ]
  },
  {
   "cell_type": "markdown",
   "id": "59710fbc",
   "metadata": {},
   "source": [
    "# User Input "
   ]
  },
  {
   "cell_type": "code",
   "execution_count": 1,
   "id": "4b38b64f",
   "metadata": {},
   "outputs": [
    {
     "name": "stdout",
     "output_type": "stream",
     "text": [
      "Enter your age please 2\n",
      "2\n"
     ]
    }
   ],
   "source": [
    "age = input(\"Enter your age please \")\n",
    "print(age)"
   ]
  },
  {
   "cell_type": "code",
   "execution_count": 4,
   "id": "a544a5f7",
   "metadata": {},
   "outputs": [
    {
     "data": {
      "text/plain": [
       "str"
      ]
     },
     "execution_count": 4,
     "metadata": {},
     "output_type": "execute_result"
    }
   ],
   "source": [
    "type(age)"
   ]
  },
  {
   "cell_type": "code",
   "execution_count": 2,
   "id": "66b70472",
   "metadata": {},
   "outputs": [
    {
     "name": "stdout",
     "output_type": "stream",
     "text": [
      "Enter your name here asad\n"
     ]
    }
   ],
   "source": [
    "name  = input(\"Enter your name here \")"
   ]
  },
  {
   "cell_type": "code",
   "execution_count": 3,
   "id": "60ffb945",
   "metadata": {},
   "outputs": [
    {
     "name": "stdout",
     "output_type": "stream",
     "text": [
      "Dear your age is 2 and your name is asad\n"
     ]
    }
   ],
   "source": [
    "print(\"Dear your age is\", age, \"and your name is\", name)"
   ]
  },
  {
   "cell_type": "markdown",
   "id": "8264b4f9",
   "metadata": {},
   "source": [
    "# String Concatenation"
   ]
  },
  {
   "cell_type": "code",
   "execution_count": 4,
   "id": "bb622028",
   "metadata": {},
   "outputs": [],
   "source": [
    "first_name = \"Asadullah Khan\"\n",
    "last_name = \"Ghalib\""
   ]
  },
  {
   "cell_type": "code",
   "execution_count": 6,
   "id": "d45b073a",
   "metadata": {},
   "outputs": [
    {
     "data": {
      "text/plain": [
       "'Asadullah Khan Ghalib'"
      ]
     },
     "execution_count": 6,
     "metadata": {},
     "output_type": "execute_result"
    }
   ],
   "source": [
    "first_name + \" \" + last_name"
   ]
  },
  {
   "cell_type": "markdown",
   "id": "6ef4db91",
   "metadata": {},
   "source": [
    "# + operator "
   ]
  },
  {
   "cell_type": "raw",
   "id": "f080390b",
   "metadata": {},
   "source": [
    "int + int >>>> addition\n",
    "string + string >>>> concatenation\n",
    "int + str >>>> error\n",
    "str + int >>>> error"
   ]
  },
  {
   "cell_type": "code",
   "execution_count": 7,
   "id": "8456cfa2",
   "metadata": {},
   "outputs": [
    {
     "data": {
      "text/plain": [
       "35"
      ]
     },
     "execution_count": 7,
     "metadata": {},
     "output_type": "execute_result"
    }
   ],
   "source": [
    "12 + 23"
   ]
  },
  {
   "cell_type": "code",
   "execution_count": 8,
   "id": "3fd9338d",
   "metadata": {},
   "outputs": [
    {
     "data": {
      "text/plain": [
       "'ab'"
      ]
     },
     "execution_count": 8,
     "metadata": {},
     "output_type": "execute_result"
    }
   ],
   "source": [
    "\"a\" + \"b\""
   ]
  },
  {
   "cell_type": "code",
   "execution_count": 9,
   "id": "4b56c502",
   "metadata": {},
   "outputs": [
    {
     "ename": "TypeError",
     "evalue": "unsupported operand type(s) for +: 'int' and 'str'",
     "output_type": "error",
     "traceback": [
      "\u001b[1;31m---------------------------------------------------------------------------\u001b[0m",
      "\u001b[1;31mTypeError\u001b[0m                                 Traceback (most recent call last)",
      "\u001b[1;32mC:\\Users\\LAB-01~1\\AppData\\Local\\Temp/ipykernel_9544/1120766259.py\u001b[0m in \u001b[0;36m<module>\u001b[1;34m\u001b[0m\n\u001b[1;32m----> 1\u001b[1;33m \u001b[1;36m12\u001b[0m \u001b[1;33m+\u001b[0m \u001b[1;34m\"a\"\u001b[0m\u001b[1;33m\u001b[0m\u001b[1;33m\u001b[0m\u001b[0m\n\u001b[0m",
      "\u001b[1;31mTypeError\u001b[0m: unsupported operand type(s) for +: 'int' and 'str'"
     ]
    }
   ],
   "source": [
    "12 + \"a\""
   ]
  },
  {
   "cell_type": "code",
   "execution_count": 10,
   "id": "ba495665",
   "metadata": {},
   "outputs": [
    {
     "ename": "TypeError",
     "evalue": "can only concatenate str (not \"int\") to str",
     "output_type": "error",
     "traceback": [
      "\u001b[1;31m---------------------------------------------------------------------------\u001b[0m",
      "\u001b[1;31mTypeError\u001b[0m                                 Traceback (most recent call last)",
      "\u001b[1;32mC:\\Users\\LAB-01~1\\AppData\\Local\\Temp/ipykernel_9544/1991240096.py\u001b[0m in \u001b[0;36m<module>\u001b[1;34m\u001b[0m\n\u001b[1;32m----> 1\u001b[1;33m \u001b[1;34m\"b\"\u001b[0m  \u001b[1;33m+\u001b[0m\u001b[1;36m2\u001b[0m\u001b[1;33m\u001b[0m\u001b[1;33m\u001b[0m\u001b[0m\n\u001b[0m",
      "\u001b[1;31mTypeError\u001b[0m: can only concatenate str (not \"int\") to str"
     ]
    }
   ],
   "source": [
    "\"b\"  +2"
   ]
  },
  {
   "cell_type": "code",
   "execution_count": 12,
   "id": "8a6f9d3c",
   "metadata": {},
   "outputs": [
    {
     "name": "stdout",
     "output_type": "stream",
     "text": [
      "Dear your name is asad and your age is2\n"
     ]
    }
   ],
   "source": [
    "print(\"Dear your name is \"+name+ \" and your age is\"+ age )"
   ]
  },
  {
   "cell_type": "code",
   "execution_count": 13,
   "id": "8fb44458",
   "metadata": {},
   "outputs": [
    {
     "ename": "TypeError",
     "evalue": "can only concatenate str (not \"int\") to str",
     "output_type": "error",
     "traceback": [
      "\u001b[1;31m---------------------------------------------------------------------------\u001b[0m",
      "\u001b[1;31mTypeError\u001b[0m                                 Traceback (most recent call last)",
      "\u001b[1;32mC:\\Users\\LAB-01~1\\AppData\\Local\\Temp/ipykernel_9544/4209802585.py\u001b[0m in \u001b[0;36m<module>\u001b[1;34m\u001b[0m\n\u001b[1;32m----> 1\u001b[1;33m \u001b[0mage\u001b[0m \u001b[1;33m=\u001b[0m \u001b[0mage\u001b[0m \u001b[1;33m+\u001b[0m \u001b[1;36m1\u001b[0m\u001b[1;33m\u001b[0m\u001b[1;33m\u001b[0m\u001b[0m\n\u001b[0m",
      "\u001b[1;31mTypeError\u001b[0m: can only concatenate str (not \"int\") to str"
     ]
    }
   ],
   "source": [
    "age = age + 1"
   ]
  },
  {
   "cell_type": "markdown",
   "id": "f923672c",
   "metadata": {},
   "source": [
    "# Type Casting"
   ]
  },
  {
   "cell_type": "code",
   "execution_count": 19,
   "id": "caa3bd3c",
   "metadata": {},
   "outputs": [],
   "source": [
    "number_of_apples  = \"100\"\n",
    "number_of_apples = int(number_of_apples)"
   ]
  },
  {
   "cell_type": "code",
   "execution_count": 20,
   "id": "f57238f2",
   "metadata": {},
   "outputs": [
    {
     "data": {
      "text/plain": [
       "100"
      ]
     },
     "execution_count": 20,
     "metadata": {},
     "output_type": "execute_result"
    }
   ],
   "source": [
    "number_of_apples"
   ]
  },
  {
   "cell_type": "code",
   "execution_count": 21,
   "id": "793db82a",
   "metadata": {},
   "outputs": [
    {
     "ename": "ValueError",
     "evalue": "invalid literal for int() with base 10: 'apple'",
     "output_type": "error",
     "traceback": [
      "\u001b[1;31m---------------------------------------------------------------------------\u001b[0m",
      "\u001b[1;31mValueError\u001b[0m                                Traceback (most recent call last)",
      "\u001b[1;32mC:\\Users\\LAB-01~1\\AppData\\Local\\Temp/ipykernel_9544/2662403752.py\u001b[0m in \u001b[0;36m<module>\u001b[1;34m\u001b[0m\n\u001b[0;32m      1\u001b[0m \u001b[0ma\u001b[0m \u001b[1;33m=\u001b[0m \u001b[1;34m\"apple\"\u001b[0m\u001b[1;33m\u001b[0m\u001b[1;33m\u001b[0m\u001b[0m\n\u001b[1;32m----> 2\u001b[1;33m \u001b[0mint\u001b[0m\u001b[1;33m(\u001b[0m\u001b[0ma\u001b[0m\u001b[1;33m)\u001b[0m\u001b[1;33m\u001b[0m\u001b[1;33m\u001b[0m\u001b[0m\n\u001b[0m",
      "\u001b[1;31mValueError\u001b[0m: invalid literal for int() with base 10: 'apple'"
     ]
    }
   ],
   "source": [
    "a = \"apple\"\n",
    "int(a)"
   ]
  },
  {
   "cell_type": "code",
   "execution_count": 22,
   "id": "64fab3e3",
   "metadata": {},
   "outputs": [],
   "source": [
    "number= 123"
   ]
  },
  {
   "cell_type": "code",
   "execution_count": 23,
   "id": "6a371e17",
   "metadata": {},
   "outputs": [
    {
     "data": {
      "text/plain": [
       "'123'"
      ]
     },
     "execution_count": 23,
     "metadata": {},
     "output_type": "execute_result"
    }
   ],
   "source": [
    "str(number)"
   ]
  },
  {
   "cell_type": "code",
   "execution_count": 24,
   "id": "22033277",
   "metadata": {},
   "outputs": [
    {
     "name": "stdout",
     "output_type": "stream",
     "text": [
      "Please tell me you age23\n",
      "Please tell me your nameHaasan\n"
     ]
    }
   ],
   "source": [
    "age  =int(input(\"Please tell me you age\"))\n",
    "name = input(\"Please tell me your name\")"
   ]
  },
  {
   "cell_type": "code",
   "execution_count": 25,
   "id": "a1f78ad7",
   "metadata": {},
   "outputs": [
    {
     "ename": "TypeError",
     "evalue": "can only concatenate str (not \"int\") to str",
     "output_type": "error",
     "traceback": [
      "\u001b[1;31m---------------------------------------------------------------------------\u001b[0m",
      "\u001b[1;31mTypeError\u001b[0m                                 Traceback (most recent call last)",
      "\u001b[1;32mC:\\Users\\LAB-01~1\\AppData\\Local\\Temp/ipykernel_9544/3448099010.py\u001b[0m in \u001b[0;36m<module>\u001b[1;34m\u001b[0m\n\u001b[1;32m----> 1\u001b[1;33m \u001b[0mprint\u001b[0m\u001b[1;33m(\u001b[0m\u001b[1;34m\"Dear your name is \"\u001b[0m\u001b[1;33m+\u001b[0m\u001b[0mname\u001b[0m\u001b[1;33m+\u001b[0m \u001b[1;34m\" and your age is\"\u001b[0m\u001b[1;33m+\u001b[0m \u001b[0mage\u001b[0m \u001b[1;33m)\u001b[0m\u001b[1;33m\u001b[0m\u001b[1;33m\u001b[0m\u001b[0m\n\u001b[0m",
      "\u001b[1;31mTypeError\u001b[0m: can only concatenate str (not \"int\") to str"
     ]
    }
   ],
   "source": [
    "print(\"Dear your name is \"+name+ \" and your age is\"+ age )"
   ]
  },
  {
   "cell_type": "code",
   "execution_count": 27,
   "id": "08aa518b",
   "metadata": {},
   "outputs": [
    {
     "name": "stdout",
     "output_type": "stream",
     "text": [
      "Dear your name is Haasan and your age is 23\n"
     ]
    }
   ],
   "source": [
    "print(\"Dear your name is \"+name+ \" and your age is \"+ str(age))"
   ]
  },
  {
   "cell_type": "markdown",
   "id": "130e2b9c",
   "metadata": {},
   "source": [
    "# String formation"
   ]
  },
  {
   "cell_type": "code",
   "execution_count": 29,
   "id": "c228de01",
   "metadata": {},
   "outputs": [
    {
     "name": "stdout",
     "output_type": "stream",
     "text": [
      "Enter the manufacturer of the unitDawlance\n",
      "How many units you want to buy?10\n",
      "Enter the price of a unit50000\n"
     ]
    }
   ],
   "source": [
    "company = input(\"Enter the manufacturer of the unit\")\n",
    "number_of_units = int(input(\"How many units you want to buy?\"))\n",
    "price_per_unit = int(input(\"Enter the price of a unit\"))"
   ]
  },
  {
   "cell_type": "code",
   "execution_count": 32,
   "id": "a841490a",
   "metadata": {},
   "outputs": [
    {
     "name": "stdout",
     "output_type": "stream",
     "text": [
      "You have ordered 10 units of the company Dawlance. The total cost of the units is 500000\n"
     ]
    }
   ],
   "source": [
    "print(\"You have ordered {} units of the company {}. The total cost of the units is {}\".format(number_of_units,company,price_per_unit*number_of_units))"
   ]
  },
  {
   "cell_type": "code",
   "execution_count": null,
   "id": "b49ccf06",
   "metadata": {},
   "outputs": [],
   "source": []
  }
 ],
 "metadata": {
  "kernelspec": {
   "display_name": "Python 3 (ipykernel)",
   "language": "python",
   "name": "python3"
  },
  "language_info": {
   "codemirror_mode": {
    "name": "ipython",
    "version": 3
   },
   "file_extension": ".py",
   "mimetype": "text/x-python",
   "name": "python",
   "nbconvert_exporter": "python",
   "pygments_lexer": "ipython3",
   "version": "3.9.7"
  }
 },
 "nbformat": 4,
 "nbformat_minor": 5
}
