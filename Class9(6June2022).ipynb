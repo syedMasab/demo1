{
 "cells": [
  {
   "cell_type": "code",
   "execution_count": 2,
   "id": "8b9ade1f",
   "metadata": {},
   "outputs": [
    {
     "name": "stdout",
     "output_type": "stream",
     "text": [
      "121\n",
      "484\n",
      "1089\n",
      "1936\n",
      "3025\n",
      "4356\n",
      "5929\n",
      "7744\n"
     ]
    }
   ],
   "source": [
    "for a in [11,22,33,44,55,66,77,88]:\n",
    "    print(a**2)\n",
    "    "
   ]
  },
  {
   "cell_type": "code",
   "execution_count": 3,
   "id": "f4ecf456",
   "metadata": {},
   "outputs": [
    {
     "data": {
      "text/plain": [
       "'S'"
      ]
     },
     "execution_count": 3,
     "metadata": {},
     "output_type": "execute_result"
    }
   ],
   "source": [
    "#string\n",
    "school = \"SMIT\"\n",
    "school[0]"
   ]
  },
  {
   "cell_type": "code",
   "execution_count": 4,
   "id": "02a62f56",
   "metadata": {},
   "outputs": [
    {
     "data": {
      "text/plain": [
       "'KU'"
      ]
     },
     "execution_count": 4,
     "metadata": {},
     "output_type": "execute_result"
    }
   ],
   "source": [
    "schools = [\"KU\", 'SSUT']\n",
    "schools[0]"
   ]
  },
  {
   "cell_type": "code",
   "execution_count": 5,
   "id": "c41afa89",
   "metadata": {},
   "outputs": [
    {
     "name": "stdout",
     "output_type": "stream",
     "text": [
      "ku\n",
      "ssut\n"
     ]
    }
   ],
   "source": [
    "for school in schools:\n",
    "    print(school.lower())"
   ]
  },
  {
   "cell_type": "code",
   "execution_count": 6,
   "id": "294bd74b",
   "metadata": {},
   "outputs": [
    {
     "name": "stdout",
     "output_type": "stream",
     "text": [
      "Enter your nameNasir\n",
      "Enter your nameHsssan\n",
      "Enter your nameUmair\n",
      "Enter your nameAli\n"
     ]
    }
   ],
   "source": [
    "alist=[]\n",
    "for a in range(1,6,2):\n",
    "    name=input(\"Enter your name\")\n",
    "    alist.append(name)\n",
    "    "
   ]
  },
  {
   "cell_type": "code",
   "execution_count": 7,
   "id": "d73ff06b",
   "metadata": {},
   "outputs": [
    {
     "data": {
      "text/plain": [
       "['Nasir', 'Hsssan', 'Umair', 'Ali']"
      ]
     },
     "execution_count": 7,
     "metadata": {},
     "output_type": "execute_result"
    }
   ],
   "source": [
    "alist\n"
   ]
  },
  {
   "cell_type": "markdown",
   "id": "63e00673",
   "metadata": {},
   "source": [
    "# List Comprehension"
   ]
  },
  {
   "cell_type": "code",
   "execution_count": 8,
   "id": "e4854dbf",
   "metadata": {},
   "outputs": [
    {
     "name": "stdout",
     "output_type": "stream",
     "text": [
      "[1, 4, 9, 16, 25, 36, 49, 64, 81, 100]\n"
     ]
    }
   ],
   "source": [
    "#list of squares without list comprehension\n",
    "squares=[]\n",
    "for  num in range(1,11):\n",
    "    square = num**2\n",
    "    squares.append(square)\n",
    "print(squares)"
   ]
  },
  {
   "cell_type": "code",
   "execution_count": 11,
   "id": "a88ab9a4",
   "metadata": {},
   "outputs": [
    {
     "ename": "SyntaxError",
     "evalue": "invalid syntax (Temp/ipykernel_1108/1450239823.py, line 2)",
     "output_type": "error",
     "traceback": [
      "\u001b[1;36m  File \u001b[1;32m\"C:\\Users\\LAB-02~1\\AppData\\Local\\Temp/ipykernel_1108/1450239823.py\"\u001b[1;36m, line \u001b[1;32m2\u001b[0m\n\u001b[1;33m    squares2=[num**2 if num==9 continue for num in range(1,11) ]\u001b[0m\n\u001b[1;37m                               ^\u001b[0m\n\u001b[1;31mSyntaxError\u001b[0m\u001b[1;31m:\u001b[0m invalid syntax\n"
     ]
    }
   ],
   "source": [
    "#list of squares with list comprehension\n",
    "squares2=[num**2 if num==9 continue for num in range(1,11) ]\n",
    "squares2"
   ]
  },
  {
   "cell_type": "code",
   "execution_count": null,
   "id": "04daaf3b",
   "metadata": {},
   "outputs": [],
   "source": []
  }
 ],
 "metadata": {
  "kernelspec": {
   "display_name": "Python 3 (ipykernel)",
   "language": "python",
   "name": "python3"
  },
  "language_info": {
   "codemirror_mode": {
    "name": "ipython",
    "version": 3
   },
   "file_extension": ".py",
   "mimetype": "text/x-python",
   "name": "python",
   "nbconvert_exporter": "python",
   "pygments_lexer": "ipython3",
   "version": "3.9.7"
  }
 },
 "nbformat": 4,
 "nbformat_minor": 5
}
