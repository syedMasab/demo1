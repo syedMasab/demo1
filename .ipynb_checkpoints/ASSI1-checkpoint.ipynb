{
 "cells": [
  {
   "cell_type": "raw",
   "metadata": {},
   "source": [
    "1) A company decided to give bonus of 5% to employee if his/her year of service is more than 5 years.\n",
    "Ask user for their salary and year of service and print the net bonus amount."
   ]
  },
  {
   "cell_type": "code",
   "execution_count": 4,
   "metadata": {},
   "outputs": [
    {
     "name": "stdout",
     "output_type": "stream",
     "text": [
      "Years of service in here:6\n",
      " Enter your current salary:3000\n",
      "Your old salary is 3000, Now your New salary is 3150.0:\n"
     ]
    }
   ],
   "source": [
    "#Type your code here\n",
    "ser= int(input(\"Years of service in here:\"))\n",
    "if ser >5:\n",
    "    salary = int(input(\" Enter your current salary:\"))\n",
    "    n_salary = salary +(salary*0.05)\n",
    "    print (f\"Your old salary is {salary}, Now your New salary is {n_salary}:\")\n",
    "else :\n",
    "    print(\"Bonus Not applied to your service years\")\n"
   ]
  },
  {
   "cell_type": "markdown",
   "metadata": {},
   "source": [
    "\n",
    "2) Write a program to check whether a person is eligible for voting or not. (accept age from user)"
   ]
  },
  {
   "cell_type": "code",
   "execution_count": 8,
   "metadata": {},
   "outputs": [
    {
     "name": "stdout",
     "output_type": "stream",
     "text": [
      "Please Enter your Age 19\n",
      "Eligible for voting\n"
     ]
    }
   ],
   "source": [
    "#Type your code here\n",
    "age =int (input(\"Please Enter your Age \"))\n",
    "if age>=18:\n",
    "    print (\"Eligible for voting\")\n",
    "else:\n",
    "    print(\"Not Eligible for Voting\")"
   ]
  },
  {
   "cell_type": "markdown",
   "metadata": {},
   "source": [
    "\n",
    "3) Write a program to check whether a number entered by user is even or odd."
   ]
  },
  {
   "cell_type": "code",
   "execution_count": 12,
   "metadata": {},
   "outputs": [
    {
     "name": "stdout",
     "output_type": "stream",
     "text": [
      "Enter any number999\n",
      "Number Enter by user is odd\n"
     ]
    }
   ],
   "source": [
    "#Type your code here\n",
    "number = int (input(\"Enter any number\"))\n",
    "if number%2==0:\n",
    "    print(\"Number Enter by user is Even\")\n",
    "else: \n",
    "    print(\"Number Enter by user is odd\")\n"
   ]
  },
  {
   "cell_type": "markdown",
   "metadata": {},
   "source": [
    "4) Write a program to check whether a number is divisible by 7 or not.\n",
    "Show Answer"
   ]
  },
  {
   "cell_type": "code",
   "execution_count": 24,
   "metadata": {},
   "outputs": [
    {
     "name": "stdout",
     "output_type": "stream",
     "text": [
      "Enter any number49\n",
      "Number Enter by user is Divisible by 7\n"
     ]
    }
   ],
   "source": [
    "#Type your code here\n",
    "number1 = int (input(\"Enter any number\"))\n",
    "if number1%7==0:\n",
    "    print(\"Number Enter by user is Divisible by 7\")\n",
    "else: \n",
    "    print(\"Number Enter by user is not divisble by 7\")"
   ]
  },
  {
   "cell_type": "raw",
   "metadata": {},
   "source": [
    "Q7. Write a program to display \n",
    "\"Hello\" if a number entered by user is a multiple of five , otherwise print \"Bye\"."
   ]
  },
  {
   "cell_type": "code",
   "execution_count": 27,
   "metadata": {},
   "outputs": [
    {
     "name": "stdout",
     "output_type": "stream",
     "text": [
      "Enter any number90\n",
      "Hello\n"
     ]
    }
   ],
   "source": [
    "#Type your code here\n",
    "number2 = int (input(\"Enter any number\"))\n",
    "if number2%5==0:\n",
    "    print(\"Hello\")\n",
    "else: \n",
    "    print(\"Bye\")"
   ]
  },
  {
   "cell_type": "raw",
   "metadata": {},
   "source": [
    "\n",
    "Q8. Write a program to calculate the electricity bill (accept number of unit from user) according to the following criteria :\n",
    "             Unit                                                     Price  \n",
    "First 100 units                                               no charge\n",
    "Next 100 units                                              Rs 5 per unit\n",
    "After 200 units                                             Rs 10 per unit\n",
    "(For example if input unit is 350 than total bill amount is Rs2000)"
   ]
  },
  {
   "cell_type": "code",
   "execution_count": 31,
   "metadata": {},
   "outputs": [
    {
     "name": "stdout",
     "output_type": "stream",
     "text": [
      "Enter Number of Units Consummed: 275\n",
      "Units Consumed by user is 275: Bill Ammount is now 1250 Rs/=\n"
     ]
    }
   ],
   "source": [
    "#Type your code here\n",
    "unit = int(input(\"Enter Number of Units Consummed: \"))\n",
    "slab1 = None\n",
    "slab3 = None\n",
    "if unit<=100:\n",
    "    slab1 = unit*0\n",
    "elif unit>100 and unit<=200:\n",
    "    salb1 = (unit-100)*5\n",
    "elif unit>200:\n",
    "    slab3 = unit-200\n",
    "    slab1 = (slab3*10)+(100*5)\n",
    "print (f\"Units Consumed by user is {unit}: Bill Ammount is now {slab1} Rs/=\")"
   ]
  },
  {
   "cell_type": "raw",
   "metadata": {},
   "source": [
    "Write a program to display the last digit of a number.\n",
    "(hint : any number % 10 will return the last digit)"
   ]
  },
  {
   "cell_type": "code",
   "execution_count": 33,
   "metadata": {},
   "outputs": [
    {
     "name": "stdout",
     "output_type": "stream",
     "text": [
      "6\n"
     ]
    }
   ],
   "source": [
    "#Type your code here\n",
    "a= 256\n",
    "b= a%10\n",
    "print(b)"
   ]
  },
  {
   "cell_type": "raw",
   "metadata": {},
   "source": [
    "\n",
    "Q10. Write a program to check whether the last digit of a number( entered by user ) is \n",
    "divisible by 3 or not."
   ]
  },
  {
   "cell_type": "code",
   "execution_count": 37,
   "metadata": {},
   "outputs": [
    {
     "name": "stdout",
     "output_type": "stream",
     "text": [
      "Enter any number255\n",
      "last number is divisble by 3\n"
     ]
    }
   ],
   "source": [
    "#Type your code here\n",
    "n_number = int (input(\"Enter any number\"))\n",
    "n_number%10 \n",
    "if n_number%3==0:\n",
    "    print(\"last number is divisble by 3\")\n",
    "else:\n",
    "    print(\"Last number is not divisible by 3\")"
   ]
  },
  {
   "cell_type": "raw",
   "metadata": {},
   "source": [
    "11) Take values of length and breadth of a rectangle from user and check if it is square or not."
   ]
  },
  {
   "cell_type": "code",
   "execution_count": 42,
   "metadata": {},
   "outputs": [
    {
     "name": "stdout",
     "output_type": "stream",
     "text": [
      "Enter length of rectangle3\n",
      "Enter breadth of rectangle5\n",
      "it is not a square\n"
     ]
    }
   ],
   "source": [
    "#Type your code here \n",
    "length = int(input(\"Enter length of rectangle\"))\n",
    "breadth = int(input(\"Enter breadth of rectangle\"))\n",
    "shape = None\n",
    "if length==breadth:\n",
    "    shape= \"It is a Square\"\n",
    "else :\n",
    "    shape = \"it is not a square\"\n",
    "print (shape)\n",
    "    "
   ]
  },
  {
   "cell_type": "raw",
   "metadata": {},
   "source": [
    "12) Take two int values from user and print greatest among them."
   ]
  },
  {
   "cell_type": "code",
   "execution_count": 48,
   "metadata": {},
   "outputs": [
    {
     "name": "stdout",
     "output_type": "stream",
     "text": [
      "Enter First number4\n",
      "Enter Seconde Number5\n",
      "Second number is greatest \n"
     ]
    }
   ],
   "source": [
    "# Type your code here\n",
    "c= int (input(\"Enter First number\"))\n",
    "d = int(input(\"Enter Seconde Number\"))\n",
    "if c>d:\n",
    "    print (\"First number is Greatest\")\n",
    "elif c==d:\n",
    "    print(\"Both number are  equal\")\n",
    "else :\n",
    "    print(\"Second number is greatest \")"
   ]
  },
  {
   "cell_type": "raw",
   "metadata": {},
   "source": [
    "14) A shop will give discount of 10% if the cost of purchased quantity is more than 1000.\n",
    "Ask user for quantity\n",
    "Suppose, one unit will cost 100.\n",
    "Judge and print total cost for user."
   ]
  },
  {
   "cell_type": "code",
   "execution_count": 52,
   "metadata": {},
   "outputs": [
    {
     "name": "stdout",
     "output_type": "stream",
     "text": [
      "Enter number of units perchased150\n",
      "per Unit cost is 50Rs number of units perchased are 150, total cost of Product is 6750.0\n"
     ]
    }
   ],
   "source": [
    "#Type your code here\n",
    "p_units = int(input(\"Enter number of units perchased\"))\n",
    "# Per unit cost of a good is 50Rs.\n",
    "cost = p_units*50\n",
    "if cost >1000:\n",
    "    cost= cost- (cost*0.10)\n",
    "else:\n",
    "    cost\n",
    "    print(\"No Discount Applicable\")\n",
    "print (f\"per Unit cost is 50Rs number of units perchased are {p_units}, total cost of Product is {cost}\")"
   ]
  },
  {
   "cell_type": "raw",
   "metadata": {},
   "source": [
    "15) A school has following rules for grading system:\n",
    "\n",
    "a. Below 25 - F\n",
    "\n",
    "b. 25 to 45 - E\n",
    "\n",
    "c. 45 to 50 - D\n",
    "\n",
    "d. 50 to 60 - C\n",
    "\n",
    "e. 60 to 80 - B\n",
    "\n",
    "f. Above 80 - A\n",
    "\n",
    "Ask user to enter marks and print the corresponding grade."
   ]
  },
  {
   "cell_type": "code",
   "execution_count": 53,
   "metadata": {},
   "outputs": [
    {
     "name": "stdout",
     "output_type": "stream",
     "text": [
      "Enter marks of Student77\n",
      "B\n"
     ]
    }
   ],
   "source": [
    "#Type your code here\n",
    "marks= int(input(\"Enter marks of Student\"))\n",
    "grade =None\n",
    "if marks>80:\n",
    "    grade =\"A\"\n",
    "elif marks >=60 and marks<80:\n",
    "    grade =\"B\"\n",
    "elif marks >=50 and marks<60:\n",
    "    grade =\"C\"\n",
    "elif marks >=45 and marks<50:\n",
    "    grade = \"D\"\n",
    "elif marks >=25 and marks<45:\n",
    "    grade = \"E\"\n",
    "else :\n",
    "    grade =\"F\"\n",
    "print (grade)\n",
    "\n"
   ]
  },
  {
   "cell_type": "raw",
   "metadata": {},
   "source": [
    "16) Take input of age of 3 people by user and determine oldest and youngest among them."
   ]
  },
  {
   "cell_type": "code",
   "execution_count": 68,
   "metadata": {},
   "outputs": [
    {
     "name": "stdout",
     "output_type": "stream",
     "text": [
      "Enter age of a first person90\n",
      "Enter age of a second person50\n",
      "Enter age of a third person30\n",
      "First person is Oldest in all\n",
      "3rd person is youngest  in all\n"
     ]
    }
   ],
   "source": [
    "#Type your code here\n",
    "age1 = int (input(\"Enter age of a first person\"))\n",
    "age2 = int (input(\"Enter age of a second person\"))\n",
    "age3 = int (input(\"Enter age of a third person\"))\n",
    "if age1>age2 and age1>age3:\n",
    "    print (\"First person is Oldest in all\")\n",
    "elif age2>age1 and age2>age3:\n",
    "    print (\"2nd person is Oldest in all\") \n",
    "else:\n",
    "    print (\"3rd person is Oldest in all\")\n",
    "\n",
    "if age1<age2 and age1<age3:\n",
    "    print (\"First person is youngest in all\")\n",
    "elif age2<age1 and age2<age3:\n",
    "    print (\"2nd person is youngest in all\") \n",
    "else:\n",
    "    print (\"3rd person is youngest  in all\")\n"
   ]
  },
  {
   "cell_type": "raw",
   "metadata": {},
   "source": [
    "17)A student will not be allowed to sit in exam if his/her attendence is less than 75%.\n",
    "\n",
    "Take following input from user\n",
    "\n",
    "Number of classes held\n",
    "\n",
    "Number of classes attended.\n",
    "\n",
    "And print\n",
    "\n",
    "percentage of class attended\n",
    "\n",
    "Is student is allowed to sit in exam or not.\n"
   ]
  },
  {
   "cell_type": "code",
   "execution_count": 75,
   "metadata": {},
   "outputs": [
    {
     "name": "stdout",
     "output_type": "stream",
     "text": [
      "Number of class held200\n",
      "Number of class Attended170\n",
      " Your Attendance percntage is 85.0% So,\n",
      " Student is Allowed to Sit in Exam\n"
     ]
    }
   ],
   "source": [
    "#Type your code here\n",
    "class_h = int(input(\"Number of class held\"))\n",
    "class_atd = int(input(\"Number of class Attended\"))\n",
    "perc = (class_atd/class_h)*100\n",
    "print (f\" Your Attendance percntage is {perc}% So,\")\n",
    "if perc>75:\n",
    "    print (\" Student is Allowed to Sit in Exam\")\n",
    "else:\n",
    "    print(\"student is Not Allowed to sit in Exam\")"
   ]
  },
  {
   "cell_type": "markdown",
   "metadata": {},
   "source": [
    "18) Modify the above question to allow student to sit if he/she has medical cause. Ask user if he/she has medical cause or not ( 'Y' or 'N' ) and print accordingly."
   ]
  },
  {
   "cell_type": "code",
   "execution_count": 78,
   "metadata": {},
   "outputs": [
    {
     "name": "stdout",
     "output_type": "stream",
     "text": [
      "Number of class held100\n",
      "Number of class Attended83\n",
      " Your Attendance percntage is 83.0%\n",
      " Student is Allowed to Sit in Exam\n"
     ]
    }
   ],
   "source": [
    "#Type your code here\n",
    "cause1 = \"Y\"\n",
    "class_h = int(input(\"Number of class held\"))\n",
    "class_atd = int(input(\"Number of class Attended\"))\n",
    "perc = (class_atd/class_h)*100\n",
    "print (f\" Your Attendance percntage is {perc}%\")\n",
    "if perc>75:\n",
    "    print (\" Student is Allowed to Sit in Exam\")\n",
    "elif perc<75:\n",
    "    cause = input(\"Enter 'Y' is you have some medicak cause Else Type 'N'\")\n",
    "    if cause1== cause:\n",
    "        print (\"Allowed to Sit in exam\")\n",
    "    else :\n",
    "        print(\"Not Allowed to sit in exam\")\n",
    "else: \n",
    "    print (\"Not allowed to sit in exam\")"
   ]
  },
  {
   "cell_type": "raw",
   "metadata": {},
   "source": [
    "19) Write a program to check if a year is leap year or not.\n",
    "\n",
    "If a year is divisible by 4 then it is leap year but if the year is century year like 2000, 1900, 2100 then it must be divisible by 400."
   ]
  },
  {
   "cell_type": "code",
   "execution_count": 81,
   "metadata": {},
   "outputs": [
    {
     "name": "stdout",
     "output_type": "stream",
     "text": [
      "Enter any year 1989\n",
      "its not a leap year\n"
     ]
    }
   ],
   "source": [
    "#Type your code here\n",
    "year = int (input(\"Enter any year \"))\n",
    "if year%4==0 or year%400==0:\n",
    "    print (\"Year is Leap year\")\n",
    "else :\n",
    "    print(\"its not a leap year\")"
   ]
  },
  {
   "cell_type": "raw",
   "metadata": {},
   "source": [
    "20) Ask user to enter age, gender ( M or F ), marital status ( Y or N ) and then using following rules print their place of service.\n",
    "\n",
    "if employee is female, then she will work only in urban areas.\n",
    "\n",
    "if employee is a male and age is in between 20 to 40 then he may work in anywhere\n",
    "\n",
    "if employee is male and age is in between 40 t0 60 then he will work in urban areas only.\n",
    "\n",
    "And any other input of age should print \"ERROR\""
   ]
  },
  {
   "cell_type": "code",
   "execution_count": 11,
   "metadata": {},
   "outputs": [],
   "source": [
    "#Type your code here"
   ]
  },
  {
   "cell_type": "code",
   "execution_count": 89,
   "metadata": {},
   "outputs": [
    {
     "name": "stdout",
     "output_type": "stream",
     "text": [
      "Enter your age80\n",
      "Type 'M' for male and 'F' for femaleM\n",
      "Married(Y)/ Single(N)Y\n",
      "ERROR\n"
     ]
    }
   ],
   "source": [
    "gender1= \"M\"\n",
    "gender2= \"F\"\n",
    "st1=\"Y\"\n",
    "st2 = \"N\"\n",
    "\n",
    "age = int(input(\"Enter your age\"))\n",
    "gender = input(\"Type 'M' for male and 'F' for female\")\n",
    "status = input (\"Married(Y)/ Single(N)\")\n",
    "\n",
    "if gender==gender2 or (age>40 and age<60):\n",
    "    print (\"Employee is only allowed to Work in Urban Areas\")\n",
    "elif age>20 and age<40:\n",
    "    if gender==gender1:\n",
    "        print (\"Employee is allowed to work anywhere \")\n",
    "else:\n",
    "    print(\"ERROR\")\n"
   ]
  },
  {
   "cell_type": "code",
   "execution_count": null,
   "metadata": {},
   "outputs": [],
   "source": []
  }
 ],
 "metadata": {
  "kernelspec": {
   "display_name": "Python 3 (ipykernel)",
   "language": "python",
   "name": "python3"
  },
  "language_info": {
   "codemirror_mode": {
    "name": "ipython",
    "version": 3
   },
   "file_extension": ".py",
   "mimetype": "text/x-python",
   "name": "python",
   "nbconvert_exporter": "python",
   "pygments_lexer": "ipython3",
   "version": "3.9.7"
  }
 },
 "nbformat": 4,
 "nbformat_minor": 2
}
