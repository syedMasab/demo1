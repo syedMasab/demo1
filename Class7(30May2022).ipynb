{
 "cells": [
  {
   "cell_type": "markdown",
   "id": "0efe2f55",
   "metadata": {},
   "source": [
    "# Python Data Structures \n",
    " - Lists\n",
    " - Dictionaries\n",
    " - Tuple\n",
    " - Set\n",
    " "
   ]
  },
  {
   "cell_type": "markdown",
   "id": "ee52e9ef",
   "metadata": {},
   "source": [
    "# List"
   ]
  },
  {
   "cell_type": "code",
   "execution_count": 5,
   "id": "3d13e8d3",
   "metadata": {},
   "outputs": [],
   "source": [
    "#Definition of list\n",
    "courses = []\n",
    "# empty list"
   ]
  },
  {
   "cell_type": "code",
   "execution_count": 4,
   "id": "b53c8c5d",
   "metadata": {},
   "outputs": [
    {
     "name": "stdout",
     "output_type": "stream",
     "text": [
      "<class 'list'>\n"
     ]
    }
   ],
   "source": [
    "print(type(courses))"
   ]
  },
  {
   "cell_type": "code",
   "execution_count": 6,
   "id": "aef89b2d",
   "metadata": {},
   "outputs": [],
   "source": [
    "students = [\"Asad\", 'Mahad','Ahmed', \"Ali\"]\n",
    "#index        0        1      2        3   \n",
    "#-ve index   -4        -3     -2       -1"
   ]
  },
  {
   "cell_type": "code",
   "execution_count": 7,
   "id": "9392d65c",
   "metadata": {},
   "outputs": [
    {
     "data": {
      "text/plain": [
       "['Asad', 'Mahad', 'Ahmed', 'Ali']"
      ]
     },
     "execution_count": 7,
     "metadata": {},
     "output_type": "execute_result"
    }
   ],
   "source": [
    "students"
   ]
  },
  {
   "cell_type": "code",
   "execution_count": 10,
   "id": "fcac8c38",
   "metadata": {},
   "outputs": [
    {
     "data": {
      "text/plain": [
       "('Asad', 'Asad')"
      ]
     },
     "execution_count": 10,
     "metadata": {},
     "output_type": "execute_result"
    }
   ],
   "source": [
    "students[0] ,students[-4]"
   ]
  },
  {
   "cell_type": "code",
   "execution_count": 9,
   "id": "fd4bc5e9",
   "metadata": {},
   "outputs": [
    {
     "data": {
      "text/plain": [
       "'Ahmed'"
      ]
     },
     "execution_count": 9,
     "metadata": {},
     "output_type": "execute_result"
    }
   ],
   "source": [
    "students[2]"
   ]
  },
  {
   "cell_type": "code",
   "execution_count": 11,
   "id": "9e34019d",
   "metadata": {},
   "outputs": [
    {
     "data": {
      "text/plain": [
       "[]"
      ]
     },
     "execution_count": 11,
     "metadata": {},
     "output_type": "execute_result"
    }
   ],
   "source": [
    "courses\n"
   ]
  },
  {
   "cell_type": "code",
   "execution_count": 13,
   "id": "0f6139f9",
   "metadata": {},
   "outputs": [
    {
     "ename": "IndexError",
     "evalue": "list assignment index out of range",
     "output_type": "error",
     "traceback": [
      "\u001b[1;31m---------------------------------------------------------------------------\u001b[0m",
      "\u001b[1;31mIndexError\u001b[0m                                Traceback (most recent call last)",
      "\u001b[1;32mC:\\Users\\LAB-02~1\\AppData\\Local\\Temp/ipykernel_9608/1023291040.py\u001b[0m in \u001b[0;36m<module>\u001b[1;34m\u001b[0m\n\u001b[1;32m----> 1\u001b[1;33m \u001b[0mcourses\u001b[0m\u001b[1;33m[\u001b[0m\u001b[1;36m0\u001b[0m\u001b[1;33m]\u001b[0m\u001b[1;33m=\u001b[0m\u001b[1;34m\"Python\"\u001b[0m\u001b[1;33m\u001b[0m\u001b[1;33m\u001b[0m\u001b[0m\n\u001b[0m",
      "\u001b[1;31mIndexError\u001b[0m: list assignment index out of range"
     ]
    }
   ],
   "source": [
    "courses[0]=\"Python\""
   ]
  },
  {
   "cell_type": "code",
   "execution_count": 14,
   "id": "143a36b5",
   "metadata": {},
   "outputs": [],
   "source": [
    "students[1]=\"Nasir\""
   ]
  },
  {
   "cell_type": "code",
   "execution_count": 15,
   "id": "bc86c1e8",
   "metadata": {},
   "outputs": [
    {
     "data": {
      "text/plain": [
       "['Asad', 'Nasir', 'Ahmed', 'Ali']"
      ]
     },
     "execution_count": 15,
     "metadata": {},
     "output_type": "execute_result"
    }
   ],
   "source": [
    "students\n"
   ]
  },
  {
   "cell_type": "raw",
   "id": "bda0f82c",
   "metadata": {},
   "source": [
    "-CRUD\n",
    "Create Retrieve, Update Delete"
   ]
  },
  {
   "cell_type": "code",
   "execution_count": 16,
   "id": "82813929",
   "metadata": {},
   "outputs": [],
   "source": [
    "del students[2]"
   ]
  },
  {
   "cell_type": "code",
   "execution_count": 17,
   "id": "06777a65",
   "metadata": {},
   "outputs": [
    {
     "data": {
      "text/plain": [
       "['Asad', 'Nasir', 'Ali']"
      ]
     },
     "execution_count": 17,
     "metadata": {},
     "output_type": "execute_result"
    }
   ],
   "source": [
    "students"
   ]
  },
  {
   "cell_type": "code",
   "execution_count": 18,
   "id": "189817e0",
   "metadata": {},
   "outputs": [],
   "source": [
    "miscList = [students, 122, False, 34.5]"
   ]
  },
  {
   "cell_type": "code",
   "execution_count": 19,
   "id": "ca347274",
   "metadata": {},
   "outputs": [
    {
     "data": {
      "text/plain": [
       "[['Asad', 'Nasir', 'Ali'], 122, False, 34.5]"
      ]
     },
     "execution_count": 19,
     "metadata": {},
     "output_type": "execute_result"
    }
   ],
   "source": [
    "miscList"
   ]
  },
  {
   "cell_type": "code",
   "execution_count": 20,
   "id": "4583cfe7",
   "metadata": {},
   "outputs": [
    {
     "data": {
      "text/plain": [
       "[]"
      ]
     },
     "execution_count": 20,
     "metadata": {},
     "output_type": "execute_result"
    }
   ],
   "source": [
    "courses"
   ]
  },
  {
   "cell_type": "markdown",
   "id": "69e1ff2e",
   "metadata": {},
   "source": [
    "To add a new value ina list "
   ]
  },
  {
   "cell_type": "code",
   "execution_count": 21,
   "id": "f9e66b54",
   "metadata": {},
   "outputs": [],
   "source": [
    "courses.append(\"Python\")"
   ]
  },
  {
   "cell_type": "code",
   "execution_count": 22,
   "id": "78cf8753",
   "metadata": {},
   "outputs": [
    {
     "data": {
      "text/plain": [
       "['Python']"
      ]
     },
     "execution_count": 22,
     "metadata": {},
     "output_type": "execute_result"
    }
   ],
   "source": [
    "courses"
   ]
  },
  {
   "cell_type": "code",
   "execution_count": 23,
   "id": "f4d4e705",
   "metadata": {},
   "outputs": [
    {
     "data": {
      "text/plain": [
       "['Python', 'DataSciences']"
      ]
     },
     "execution_count": 23,
     "metadata": {},
     "output_type": "execute_result"
    }
   ],
   "source": [
    "courses.append('DataSciences')\n",
    "courses"
   ]
  },
  {
   "cell_type": "code",
   "execution_count": 24,
   "id": "8779c817",
   "metadata": {},
   "outputs": [
    {
     "data": {
      "text/plain": [
       "['Python', 'DataSciences', 'Machine Learning']"
      ]
     },
     "execution_count": 24,
     "metadata": {},
     "output_type": "execute_result"
    }
   ],
   "source": [
    "courses.append('Machine Learning')\n",
    "courses"
   ]
  },
  {
   "cell_type": "code",
   "execution_count": 25,
   "id": "5baa1a2a",
   "metadata": {},
   "outputs": [
    {
     "data": {
      "text/plain": [
       "['Python', 'DataSciences', 'Artificial Intelligence', 'Machine Learning']"
      ]
     },
     "execution_count": 25,
     "metadata": {},
     "output_type": "execute_result"
    }
   ],
   "source": [
    "courses.insert(2, \"Artificial Intelligence\")\n",
    "courses"
   ]
  },
  {
   "cell_type": "code",
   "execution_count": 26,
   "id": "ff18130c",
   "metadata": {},
   "outputs": [],
   "source": [
    "del courses[0]"
   ]
  },
  {
   "cell_type": "code",
   "execution_count": 27,
   "id": "42841ccb",
   "metadata": {},
   "outputs": [
    {
     "data": {
      "text/plain": [
       "['DataSciences', 'Artificial Intelligence', 'Machine Learning']"
      ]
     },
     "execution_count": 27,
     "metadata": {},
     "output_type": "execute_result"
    }
   ],
   "source": [
    "courses"
   ]
  },
  {
   "cell_type": "code",
   "execution_count": 33,
   "id": "feb6e1e7",
   "metadata": {},
   "outputs": [
    {
     "ename": "IndexError",
     "evalue": "pop from empty list",
     "output_type": "error",
     "traceback": [
      "\u001b[1;31m---------------------------------------------------------------------------\u001b[0m",
      "\u001b[1;31mIndexError\u001b[0m                                Traceback (most recent call last)",
      "\u001b[1;32mC:\\Users\\LAB-02~1\\AppData\\Local\\Temp/ipykernel_9608/2120906889.py\u001b[0m in \u001b[0;36m<module>\u001b[1;34m\u001b[0m\n\u001b[1;32m----> 1\u001b[1;33m \u001b[0mpopped_values\u001b[0m \u001b[1;33m=\u001b[0m \u001b[0mcourses\u001b[0m\u001b[1;33m.\u001b[0m\u001b[0mpop\u001b[0m\u001b[1;33m(\u001b[0m\u001b[1;33m)\u001b[0m\u001b[1;33m\u001b[0m\u001b[1;33m\u001b[0m\u001b[0m\n\u001b[0m",
      "\u001b[1;31mIndexError\u001b[0m: pop from empty list"
     ]
    }
   ],
   "source": [
    "popped_values = courses.pop()"
   ]
  },
  {
   "cell_type": "code",
   "execution_count": 32,
   "id": "730b3f75",
   "metadata": {},
   "outputs": [
    {
     "data": {
      "text/plain": [
       "'DataSciences'"
      ]
     },
     "execution_count": 32,
     "metadata": {},
     "output_type": "execute_result"
    }
   ],
   "source": [
    "popped_values"
   ]
  },
  {
   "cell_type": "code",
   "execution_count": 34,
   "id": "8019de92",
   "metadata": {},
   "outputs": [
    {
     "ename": "ValueError",
     "evalue": "list.remove(x): x not in list",
     "output_type": "error",
     "traceback": [
      "\u001b[1;31m---------------------------------------------------------------------------\u001b[0m",
      "\u001b[1;31mValueError\u001b[0m                                Traceback (most recent call last)",
      "\u001b[1;32mC:\\Users\\LAB-02~1\\AppData\\Local\\Temp/ipykernel_9608/2841590238.py\u001b[0m in \u001b[0;36m<module>\u001b[1;34m\u001b[0m\n\u001b[1;32m----> 1\u001b[1;33m \u001b[0mcourses\u001b[0m\u001b[1;33m.\u001b[0m\u001b[0mremove\u001b[0m\u001b[1;33m(\u001b[0m\u001b[1;34m'DataSciences'\u001b[0m\u001b[1;33m)\u001b[0m\u001b[1;33m\u001b[0m\u001b[1;33m\u001b[0m\u001b[0m\n\u001b[0m",
      "\u001b[1;31mValueError\u001b[0m: list.remove(x): x not in list"
     ]
    }
   ],
   "source": [
    "courses.remove('DataSciences')"
   ]
  },
  {
   "cell_type": "code",
   "execution_count": 35,
   "id": "ec2f998c",
   "metadata": {},
   "outputs": [
    {
     "data": {
      "text/plain": [
       "[]"
      ]
     },
     "execution_count": 35,
     "metadata": {},
     "output_type": "execute_result"
    }
   ],
   "source": [
    "courses"
   ]
  },
  {
   "cell_type": "code",
   "execution_count": 36,
   "id": "db1d4c66",
   "metadata": {},
   "outputs": [
    {
     "data": {
      "text/plain": [
       "['Asad', 'Nasir', 'Ali']"
      ]
     },
     "execution_count": 36,
     "metadata": {},
     "output_type": "execute_result"
    }
   ],
   "source": [
    "students"
   ]
  },
  {
   "cell_type": "code",
   "execution_count": 37,
   "id": "3c1577ba",
   "metadata": {},
   "outputs": [],
   "source": [
    "students.clear()"
   ]
  },
  {
   "cell_type": "code",
   "execution_count": 38,
   "id": "fd140762",
   "metadata": {},
   "outputs": [
    {
     "data": {
      "text/plain": [
       "[]"
      ]
     },
     "execution_count": 38,
     "metadata": {},
     "output_type": "execute_result"
    }
   ],
   "source": [
    "students"
   ]
  },
  {
   "cell_type": "code",
   "execution_count": 39,
   "id": "4f4666c7",
   "metadata": {},
   "outputs": [],
   "source": [
    "students= ['Asad', 'Nasir', 'Ali']"
   ]
  },
  {
   "cell_type": "code",
   "execution_count": 41,
   "id": "ac929622",
   "metadata": {},
   "outputs": [
    {
     "data": {
      "text/plain": [
       "['Asad', 'Nasir', 'Ali']"
      ]
     },
     "execution_count": 41,
     "metadata": {},
     "output_type": "execute_result"
    }
   ],
   "source": [
    "my_students = students\n",
    "my_students"
   ]
  },
  {
   "cell_type": "markdown",
   "id": "d165713a",
   "metadata": {},
   "source": [
    "Pass by reference \n",
    "\n",
    "Pass by value"
   ]
  },
  {
   "cell_type": "code",
   "execution_count": 42,
   "id": "84b8ea88",
   "metadata": {},
   "outputs": [
    {
     "data": {
      "text/plain": [
       "['Asad', 'Nasir', 'Ali', 'Kamran']"
      ]
     },
     "execution_count": 42,
     "metadata": {},
     "output_type": "execute_result"
    }
   ],
   "source": [
    "my_students.append(\"Kamran\")\n",
    "my_students"
   ]
  },
  {
   "cell_type": "code",
   "execution_count": 43,
   "id": "f7d6ab26",
   "metadata": {},
   "outputs": [
    {
     "data": {
      "text/plain": [
       "['Asad', 'Nasir', 'Ali', 'Kamran']"
      ]
     },
     "execution_count": 43,
     "metadata": {},
     "output_type": "execute_result"
    }
   ],
   "source": [
    "students"
   ]
  },
  {
   "cell_type": "code",
   "execution_count": 46,
   "id": "445b5b93",
   "metadata": {},
   "outputs": [],
   "source": [
    "new_students = students.copy()"
   ]
  },
  {
   "cell_type": "code",
   "execution_count": 47,
   "id": "a80b0030",
   "metadata": {},
   "outputs": [
    {
     "data": {
      "text/plain": [
       "['Asad', 'Nasir', 'Ali', 'Kamran']"
      ]
     },
     "execution_count": 47,
     "metadata": {},
     "output_type": "execute_result"
    }
   ],
   "source": [
    "new_students"
   ]
  },
  {
   "cell_type": "code",
   "execution_count": 48,
   "id": "c7fbbf14",
   "metadata": {},
   "outputs": [],
   "source": [
    "a=100"
   ]
  },
  {
   "cell_type": "code",
   "execution_count": 49,
   "id": "82f9bde0",
   "metadata": {},
   "outputs": [],
   "source": [
    "b =a"
   ]
  },
  {
   "cell_type": "code",
   "execution_count": 50,
   "id": "50267604",
   "metadata": {},
   "outputs": [
    {
     "data": {
      "text/plain": [
       "100"
      ]
     },
     "execution_count": 50,
     "metadata": {},
     "output_type": "execute_result"
    }
   ],
   "source": [
    "b "
   ]
  },
  {
   "cell_type": "code",
   "execution_count": 55,
   "id": "7ffc0d49",
   "metadata": {},
   "outputs": [],
   "source": [
    "c = 100.1"
   ]
  },
  {
   "cell_type": "code",
   "execution_count": 52,
   "id": "a31586d5",
   "metadata": {},
   "outputs": [
    {
     "data": {
      "text/plain": [
       "1958009460176"
      ]
     },
     "execution_count": 52,
     "metadata": {},
     "output_type": "execute_result"
    }
   ],
   "source": [
    "id(a)"
   ]
  },
  {
   "cell_type": "code",
   "execution_count": 53,
   "id": "10662f1f",
   "metadata": {},
   "outputs": [
    {
     "data": {
      "text/plain": [
       "1958009460176"
      ]
     },
     "execution_count": 53,
     "metadata": {},
     "output_type": "execute_result"
    }
   ],
   "source": [
    "id(b)"
   ]
  },
  {
   "cell_type": "code",
   "execution_count": 56,
   "id": "7502b14a",
   "metadata": {},
   "outputs": [
    {
     "data": {
      "text/plain": [
       "1958130985872"
      ]
     },
     "execution_count": 56,
     "metadata": {},
     "output_type": "execute_result"
    }
   ],
   "source": [
    "id(c)"
   ]
  },
  {
   "cell_type": "code",
   "execution_count": 57,
   "id": "62178217",
   "metadata": {},
   "outputs": [
    {
     "data": {
      "text/plain": [
       "0"
      ]
     },
     "execution_count": 57,
     "metadata": {},
     "output_type": "execute_result"
    }
   ],
   "source": [
    "students.count(\"asad\")"
   ]
  },
  {
   "cell_type": "code",
   "execution_count": 58,
   "id": "54dbf557",
   "metadata": {},
   "outputs": [
    {
     "data": {
      "text/plain": [
       "['Asad', 'Nasir', 'Ali', 'Kamran']"
      ]
     },
     "execution_count": 58,
     "metadata": {},
     "output_type": "execute_result"
    }
   ],
   "source": [
    "students"
   ]
  },
  {
   "cell_type": "code",
   "execution_count": 59,
   "id": "b0207820",
   "metadata": {},
   "outputs": [
    {
     "data": {
      "text/plain": [
       "['Asad', 'Nasir', 'Ali', 'Kamran']"
      ]
     },
     "execution_count": 59,
     "metadata": {},
     "output_type": "execute_result"
    }
   ],
   "source": [
    "new_students\n"
   ]
  },
  {
   "cell_type": "code",
   "execution_count": 60,
   "id": "eaa489f9",
   "metadata": {},
   "outputs": [],
   "source": [
    "students.append(new_students)"
   ]
  },
  {
   "cell_type": "code",
   "execution_count": 61,
   "id": "975c5293",
   "metadata": {},
   "outputs": [
    {
     "data": {
      "text/plain": [
       "['Asad', 'Nasir', 'Ali', 'Kamran', ['Asad', 'Nasir', 'Ali', 'Kamran']]"
      ]
     },
     "execution_count": 61,
     "metadata": {},
     "output_type": "execute_result"
    }
   ],
   "source": [
    "students"
   ]
  },
  {
   "cell_type": "code",
   "execution_count": 62,
   "id": "9bf0e5b5",
   "metadata": {},
   "outputs": [
    {
     "data": {
      "text/plain": [
       "'p'"
      ]
     },
     "execution_count": 62,
     "metadata": {},
     "output_type": "execute_result"
    }
   ],
   "source": [
    "'pAKISTAN'[0]"
   ]
  },
  {
   "cell_type": "code",
   "execution_count": 63,
   "id": "d90d7faf",
   "metadata": {},
   "outputs": [
    {
     "data": {
      "text/plain": [
       "['Asad', 'Nasir', 'Ali', 'Kamran', 'a', 'b', 'c', 'd']"
      ]
     },
     "execution_count": 63,
     "metadata": {},
     "output_type": "execute_result"
    }
   ],
   "source": [
    "new_students.extend(['a','b','c','d'])\n",
    "new_students"
   ]
  },
  {
   "cell_type": "code",
   "execution_count": 64,
   "id": "47d04fd9",
   "metadata": {},
   "outputs": [],
   "source": [
    "new_students.extend(\"Python\")"
   ]
  },
  {
   "cell_type": "code",
   "execution_count": 65,
   "id": "3aae61c3",
   "metadata": {},
   "outputs": [
    {
     "data": {
      "text/plain": [
       "['Asad',\n",
       " 'Nasir',\n",
       " 'Ali',\n",
       " 'Kamran',\n",
       " 'a',\n",
       " 'b',\n",
       " 'c',\n",
       " 'd',\n",
       " 'P',\n",
       " 'y',\n",
       " 't',\n",
       " 'h',\n",
       " 'o',\n",
       " 'n']"
      ]
     },
     "execution_count": 65,
     "metadata": {},
     "output_type": "execute_result"
    }
   ],
   "source": [
    "new_students"
   ]
  },
  {
   "cell_type": "code",
   "execution_count": 66,
   "id": "b2f7164a",
   "metadata": {},
   "outputs": [
    {
     "ename": "TypeError",
     "evalue": "'int' object is not iterable",
     "output_type": "error",
     "traceback": [
      "\u001b[1;31m---------------------------------------------------------------------------\u001b[0m",
      "\u001b[1;31mTypeError\u001b[0m                                 Traceback (most recent call last)",
      "\u001b[1;32mC:\\Users\\LAB-02~1\\AppData\\Local\\Temp/ipykernel_9608/2568660756.py\u001b[0m in \u001b[0;36m<module>\u001b[1;34m\u001b[0m\n\u001b[1;32m----> 1\u001b[1;33m \u001b[0mnew_students\u001b[0m\u001b[1;33m.\u001b[0m\u001b[0mextend\u001b[0m\u001b[1;33m(\u001b[0m\u001b[1;36m125469\u001b[0m\u001b[1;33m)\u001b[0m\u001b[1;33m\u001b[0m\u001b[1;33m\u001b[0m\u001b[0m\n\u001b[0m",
      "\u001b[1;31mTypeError\u001b[0m: 'int' object is not iterable"
     ]
    }
   ],
   "source": [
    "new_students.extend(125469)"
   ]
  },
  {
   "cell_type": "code",
   "execution_count": 67,
   "id": "50b82e25",
   "metadata": {},
   "outputs": [
    {
     "data": {
      "text/plain": [
       "2"
      ]
     },
     "execution_count": 67,
     "metadata": {},
     "output_type": "execute_result"
    }
   ],
   "source": [
    "students.index('Ali')"
   ]
  },
  {
   "cell_type": "code",
   "execution_count": 68,
   "id": "9f6205b4",
   "metadata": {},
   "outputs": [
    {
     "ename": "ValueError",
     "evalue": "'ali' is not in list",
     "output_type": "error",
     "traceback": [
      "\u001b[1;31m---------------------------------------------------------------------------\u001b[0m",
      "\u001b[1;31mValueError\u001b[0m                                Traceback (most recent call last)",
      "\u001b[1;32mC:\\Users\\LAB-02~1\\AppData\\Local\\Temp/ipykernel_9608/4128251237.py\u001b[0m in \u001b[0;36m<module>\u001b[1;34m\u001b[0m\n\u001b[1;32m----> 1\u001b[1;33m \u001b[0mstudents\u001b[0m\u001b[1;33m.\u001b[0m\u001b[0mindex\u001b[0m\u001b[1;33m(\u001b[0m\u001b[1;34m'ali'\u001b[0m\u001b[1;33m)\u001b[0m\u001b[1;33m\u001b[0m\u001b[1;33m\u001b[0m\u001b[0m\n\u001b[0m",
      "\u001b[1;31mValueError\u001b[0m: 'ali' is not in list"
     ]
    }
   ],
   "source": [
    "students.index('ali')"
   ]
  },
  {
   "cell_type": "code",
   "execution_count": 72,
   "id": "eb140d44",
   "metadata": {},
   "outputs": [],
   "source": [
    "del students[4]"
   ]
  },
  {
   "cell_type": "code",
   "execution_count": 74,
   "id": "dd23aaf2",
   "metadata": {},
   "outputs": [],
   "source": [
    "students.append(\"fahad\")\n",
    "students.append(\"hassan\")\n",
    "students.append(\"ghous\")"
   ]
  },
  {
   "cell_type": "code",
   "execution_count": 78,
   "id": "efd640c0",
   "metadata": {},
   "outputs": [
    {
     "data": {
      "text/plain": [
       "['Ali', 'Asad', 'Kamran', 'Nasir', 'fahad', 'ghous', 'hassan']"
      ]
     },
     "execution_count": 78,
     "metadata": {},
     "output_type": "execute_result"
    }
   ],
   "source": [
    "students"
   ]
  },
  {
   "cell_type": "code",
   "execution_count": 79,
   "id": "ebe2e70c",
   "metadata": {},
   "outputs": [],
   "source": [
    "students.sort()"
   ]
  },
  {
   "cell_type": "code",
   "execution_count": 80,
   "id": "fdc391d6",
   "metadata": {},
   "outputs": [
    {
     "data": {
      "text/plain": [
       "['Ali', 'Asad', 'Kamran', 'Nasir', 'fahad', 'ghous', 'hassan']"
      ]
     },
     "execution_count": 80,
     "metadata": {},
     "output_type": "execute_result"
    }
   ],
   "source": [
    "students"
   ]
  },
  {
   "cell_type": "code",
   "execution_count": 82,
   "id": "2d4003a9",
   "metadata": {},
   "outputs": [
    {
     "data": {
      "text/plain": [
       "65"
      ]
     },
     "execution_count": 82,
     "metadata": {},
     "output_type": "execute_result"
    }
   ],
   "source": [
    "ord(\"A\")"
   ]
  },
  {
   "cell_type": "code",
   "execution_count": 84,
   "id": "f70d2241",
   "metadata": {},
   "outputs": [
    {
     "data": {
      "text/plain": [
       "97"
      ]
     },
     "execution_count": 84,
     "metadata": {},
     "output_type": "execute_result"
    }
   ],
   "source": [
    "ord(\"a\")"
   ]
  },
  {
   "cell_type": "code",
   "execution_count": 85,
   "id": "6bf2f9e7",
   "metadata": {},
   "outputs": [
    {
     "data": {
      "text/plain": [
       "'b'"
      ]
     },
     "execution_count": 85,
     "metadata": {},
     "output_type": "execute_result"
    }
   ],
   "source": [
    "chr(98)"
   ]
  },
  {
   "cell_type": "code",
   "execution_count": 87,
   "id": "32ec3e61",
   "metadata": {},
   "outputs": [
    {
     "data": {
      "text/plain": [
       "['hassan', 'ghous', 'fahad', 'Nasir', 'Kamran', 'Asad', 'Ali']"
      ]
     },
     "execution_count": 87,
     "metadata": {},
     "output_type": "execute_result"
    }
   ],
   "source": [
    "students\n"
   ]
  },
  {
   "cell_type": "markdown",
   "id": "93dbbd65",
   "metadata": {},
   "source": [
    "# Indexing & Slicing"
   ]
  },
  {
   "cell_type": "code",
   "execution_count": 88,
   "id": "3d1ae0ff",
   "metadata": {},
   "outputs": [],
   "source": [
    "marks = [90,80,89,52,89,97,79,56]\n",
    "# index   0  1  2  3  4  5 6   7 "
   ]
  },
  {
   "cell_type": "code",
   "execution_count": 90,
   "id": "ad4f4cf2",
   "metadata": {},
   "outputs": [
    {
     "data": {
      "text/plain": [
       "52"
      ]
     },
     "execution_count": 90,
     "metadata": {},
     "output_type": "execute_result"
    }
   ],
   "source": [
    "#indexing\n",
    "marks[3]"
   ]
  },
  {
   "cell_type": "code",
   "execution_count": 92,
   "id": "5735881e",
   "metadata": {},
   "outputs": [
    {
     "data": {
      "text/plain": [
       "[80, 89, 52, 89]"
      ]
     },
     "execution_count": 92,
     "metadata": {},
     "output_type": "execute_result"
    }
   ],
   "source": [
    "marks[1:5]"
   ]
  },
  {
   "cell_type": "code",
   "execution_count": 93,
   "id": "0aaf2463",
   "metadata": {},
   "outputs": [
    {
     "data": {
      "text/plain": [
       "[52]"
      ]
     },
     "execution_count": 93,
     "metadata": {},
     "output_type": "execute_result"
    }
   ],
   "source": [
    "marks[3:4]"
   ]
  },
  {
   "cell_type": "code",
   "execution_count": 94,
   "id": "940b2140",
   "metadata": {},
   "outputs": [
    {
     "data": {
      "text/plain": [
       "[52, 89, 97, 79]"
      ]
     },
     "execution_count": 94,
     "metadata": {},
     "output_type": "execute_result"
    }
   ],
   "source": [
    "marks[3:7]"
   ]
  },
  {
   "cell_type": "code",
   "execution_count": 95,
   "id": "269db112",
   "metadata": {},
   "outputs": [
    {
     "data": {
      "text/plain": [
       "[52, 89, 97, 79]"
      ]
     },
     "execution_count": 95,
     "metadata": {},
     "output_type": "execute_result"
    }
   ],
   "source": [
    "marks[3:-1]"
   ]
  },
  {
   "cell_type": "code",
   "execution_count": 96,
   "id": "ce02b2fe",
   "metadata": {},
   "outputs": [
    {
     "data": {
      "text/plain": [
       "[52, 89, 97, 79, 56]"
      ]
     },
     "execution_count": 96,
     "metadata": {},
     "output_type": "execute_result"
    }
   ],
   "source": [
    "marks[3:8]"
   ]
  },
  {
   "cell_type": "code",
   "execution_count": 97,
   "id": "39964a2d",
   "metadata": {},
   "outputs": [
    {
     "data": {
      "text/plain": [
       "[52, 89, 97, 79, 56]"
      ]
     },
     "execution_count": 97,
     "metadata": {},
     "output_type": "execute_result"
    }
   ],
   "source": [
    "marks[3:]"
   ]
  },
  {
   "cell_type": "code",
   "execution_count": 98,
   "id": "039c18b9",
   "metadata": {},
   "outputs": [
    {
     "data": {
      "text/plain": [
       "[90, 80, 89, 52, 89, 97]"
      ]
     },
     "execution_count": 98,
     "metadata": {},
     "output_type": "execute_result"
    }
   ],
   "source": [
    "marks[:6]"
   ]
  },
  {
   "cell_type": "code",
   "execution_count": 101,
   "id": "8bf67f54",
   "metadata": {},
   "outputs": [
    {
     "data": {
      "text/plain": [
       "[90, 80, 89, 52, 89, 97, 79, 56]"
      ]
     },
     "execution_count": 101,
     "metadata": {},
     "output_type": "execute_result"
    }
   ],
   "source": [
    "marks[:]"
   ]
  },
  {
   "cell_type": "code",
   "execution_count": 102,
   "id": "d30d3a12",
   "metadata": {},
   "outputs": [],
   "source": [
    "sliced_list= marks[1:5]"
   ]
  },
  {
   "cell_type": "code",
   "execution_count": 103,
   "id": "846e510a",
   "metadata": {},
   "outputs": [
    {
     "data": {
      "text/plain": [
       "[80, 89, 52, 89]"
      ]
     },
     "execution_count": 103,
     "metadata": {},
     "output_type": "execute_result"
    }
   ],
   "source": [
    "sliced_list"
   ]
  },
  {
   "cell_type": "code",
   "execution_count": 104,
   "id": "f1b561c9",
   "metadata": {},
   "outputs": [
    {
     "data": {
      "text/plain": [
       "['hassan', 'ghous', 'fahad', 'Nasir', 'Kamran', 'Asad', 'Ali']"
      ]
     },
     "execution_count": 104,
     "metadata": {},
     "output_type": "execute_result"
    }
   ],
   "source": [
    "students"
   ]
  },
  {
   "cell_type": "code",
   "execution_count": 105,
   "id": "9c40d174",
   "metadata": {},
   "outputs": [
    {
     "data": {
      "text/plain": [
       "[]"
      ]
     },
     "execution_count": 105,
     "metadata": {},
     "output_type": "execute_result"
    }
   ],
   "source": [
    "students[5:2]"
   ]
  },
  {
   "cell_type": "code",
   "execution_count": 108,
   "id": "a234bf1f",
   "metadata": {},
   "outputs": [
    {
     "data": {
      "text/plain": [
       "['hassan', 'fahad', 'Kamran', 'Ali']"
      ]
     },
     "execution_count": 108,
     "metadata": {},
     "output_type": "execute_result"
    }
   ],
   "source": [
    "students[0:7:2]"
   ]
  },
  {
   "cell_type": "code",
   "execution_count": 109,
   "id": "b8fad273",
   "metadata": {},
   "outputs": [
    {
     "data": {
      "text/plain": [
       "['hassan', 'ghous', 'fahad', 'Nasir', 'Kamran', 'Asad', 'Ali']"
      ]
     },
     "execution_count": 109,
     "metadata": {},
     "output_type": "execute_result"
    }
   ],
   "source": [
    "students"
   ]
  },
  {
   "cell_type": "code",
   "execution_count": 111,
   "id": "ad7b3def",
   "metadata": {},
   "outputs": [
    {
     "data": {
      "text/plain": [
       "[]"
      ]
     },
     "execution_count": 111,
     "metadata": {},
     "output_type": "execute_result"
    }
   ],
   "source": [
    "students[-1:-4]"
   ]
  },
  {
   "cell_type": "code",
   "execution_count": 112,
   "id": "3905fd1e",
   "metadata": {},
   "outputs": [
    {
     "data": {
      "text/plain": [
       "['Ali', 'Asad', 'Kamran', 'Nasir', 'fahad', 'ghous', 'hassan']"
      ]
     },
     "execution_count": 112,
     "metadata": {},
     "output_type": "execute_result"
    }
   ],
   "source": [
    "students[::-1]"
   ]
  },
  {
   "cell_type": "code",
   "execution_count": 113,
   "id": "9ba5064c",
   "metadata": {},
   "outputs": [
    {
     "data": {
      "text/plain": [
       "[90, 80, 89, 52, 89, 97, 79, 56]"
      ]
     },
     "execution_count": 113,
     "metadata": {},
     "output_type": "execute_result"
    }
   ],
   "source": [
    "marks"
   ]
  },
  {
   "cell_type": "code",
   "execution_count": 116,
   "id": "8d54d8be",
   "metadata": {},
   "outputs": [
    {
     "data": {
      "text/plain": [
       "[56, 79, 97, 89, 52, 89, 80, 90]"
      ]
     },
     "execution_count": 116,
     "metadata": {},
     "output_type": "execute_result"
    }
   ],
   "source": [
    "marks[::-1]"
   ]
  },
  {
   "cell_type": "code",
   "execution_count": 117,
   "id": "22783f9c",
   "metadata": {},
   "outputs": [
    {
     "data": {
      "text/plain": [
       "[56, 97, 52, 80]"
      ]
     },
     "execution_count": 117,
     "metadata": {},
     "output_type": "execute_result"
    }
   ],
   "source": [
    "marks[::-2]"
   ]
  },
  {
   "cell_type": "code",
   "execution_count": 119,
   "id": "4c741719",
   "metadata": {},
   "outputs": [
    {
     "data": {
      "text/plain": [
       "[56, 97]"
      ]
     },
     "execution_count": 119,
     "metadata": {},
     "output_type": "execute_result"
    }
   ],
   "source": [
    "marks[-1:-4:-2]"
   ]
  },
  {
   "cell_type": "code",
   "execution_count": null,
   "id": "61512863",
   "metadata": {},
   "outputs": [],
   "source": []
  }
 ],
 "metadata": {
  "kernelspec": {
   "display_name": "Python 3 (ipykernel)",
   "language": "python",
   "name": "python3"
  },
  "language_info": {
   "codemirror_mode": {
    "name": "ipython",
    "version": 3
   },
   "file_extension": ".py",
   "mimetype": "text/x-python",
   "name": "python",
   "nbconvert_exporter": "python",
   "pygments_lexer": "ipython3",
   "version": "3.9.7"
  }
 },
 "nbformat": 4,
 "nbformat_minor": 5
}
