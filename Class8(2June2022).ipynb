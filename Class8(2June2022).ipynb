{
 "cells": [
  {
   "cell_type": "markdown",
   "id": "b3fd5f1e",
   "metadata": {},
   "source": [
    "# For loop"
   ]
  },
  {
   "cell_type": "code",
   "execution_count": 12,
   "id": "1cf261d9",
   "metadata": {},
   "outputs": [
    {
     "name": "stdout",
     "output_type": "stream",
     "text": [
      "1 3 5 7 9 "
     ]
    }
   ],
   "source": [
    "for i in range(1,10,2):  \n",
    "    print(i, end=\" \")"
   ]
  },
  {
   "cell_type": "code",
   "execution_count": 7,
   "id": "3221278f",
   "metadata": {},
   "outputs": [
    {
     "data": {
      "text/plain": [
       "range(10, 3)"
      ]
     },
     "execution_count": 7,
     "metadata": {},
     "output_type": "execute_result"
    }
   ],
   "source": [
    "range(10,3)"
   ]
  },
  {
   "cell_type": "code",
   "execution_count": 19,
   "id": "074d9009",
   "metadata": {},
   "outputs": [
    {
     "name": "stdout",
     "output_type": "stream",
     "text": [
      "1\n",
      "2\n"
     ]
    }
   ],
   "source": [
    "for i in range(1,100):\n",
    "    if i%3==0:\n",
    "        break\n",
    "    print(i)      "
   ]
  },
  {
   "cell_type": "code",
   "execution_count": 20,
   "id": "70e943ac",
   "metadata": {},
   "outputs": [
    {
     "name": "stdout",
     "output_type": "stream",
     "text": [
      "[0, 2, 4, 6, 8, 10, 12, 14, 16, 18, 20, 22, 24, 26, 28, 30, 32, 34, 36, 38, 40, 42, 44, 46, 48]\n",
      "[1, 3, 5, 7, 9, 11, 13, 15, 17, 19, 21, 23, 25, 27, 29, 31, 33, 35, 37, 39, 41, 43, 45, 47, 49]\n"
     ]
    }
   ],
   "source": [
    "even=[]\n",
    "odd=[]\n",
    "for num in range(50):\n",
    "    if num%2==0:\n",
    "        even.append(num)\n",
    "    else:\n",
    "        odd.append(num)\n",
    "print(even)\n",
    "print(odd)\n",
    "        "
   ]
  },
  {
   "cell_type": "markdown",
   "id": "5a1a126c",
   "metadata": {},
   "source": [
    "# Code With Nested if "
   ]
  },
  {
   "cell_type": "code",
   "execution_count": 23,
   "id": "247ffa77",
   "metadata": {},
   "outputs": [
    {
     "name": "stdout",
     "output_type": "stream",
     "text": [
      "[2, 4, 6, 8, 12, 14, 16, 18, 22, 24, 26, 28, 32, 34, 36, 38, 42, 44, 46, 48]\n",
      "[1, 3, 7, 9, 11, 13, 17, 19, 21, 23, 27, 29, 31, 33, 37, 39, 41, 43, 47, 49]\n"
     ]
    }
   ],
   "source": [
    "evens=[]\n",
    "odds=[]\n",
    "for a in range(50):\n",
    "    if a%2==0:\n",
    "        if a%5!=0:\n",
    "            evens.append(a)\n",
    "    elif a%5!=0:\n",
    "        odds.append(a)\n",
    "print(evens)\n",
    "print(odds)"
   ]
  },
  {
   "cell_type": "code",
   "execution_count": 25,
   "id": "d6308171",
   "metadata": {},
   "outputs": [
    {
     "name": "stdout",
     "output_type": "stream",
     "text": [
      "[2, 4, 6, 8, 12, 14, 16, 18, 22, 24, 26, 28, 32, 34, 36, 38, 42, 44, 46, 48]\n",
      "[1, 3, 7, 9, 11, 13, 17, 19, 21, 23, 27, 29, 31, 33, 37, 39, 41, 43, 47, 49]\n"
     ]
    }
   ],
   "source": [
    "evens=[]\n",
    "odds=[]\n",
    "for a in range(50):\n",
    "    if a%5!=0:\n",
    "        if (a%2==0): \n",
    "            evens.append(a)\n",
    "        else:\n",
    "            odds.append(a)\n",
    "print(evens)\n",
    "print(odds)"
   ]
  },
  {
   "cell_type": "code",
   "execution_count": 34,
   "id": "1d4a67b0",
   "metadata": {},
   "outputs": [
    {
     "name": "stdout",
     "output_type": "stream",
     "text": [
      "1\n",
      "2\n",
      "3\n",
      "4\n",
      "5\n",
      "6\n",
      "8\n",
      "9\n"
     ]
    }
   ],
   "source": [
    "for num in range(1,10):\n",
    "    \n",
    "    if num==7:\n",
    "        continue  # skip\n",
    "    else:\n",
    "        print(num)"
   ]
  },
  {
   "cell_type": "markdown",
   "id": "8b594e0a",
   "metadata": {},
   "source": [
    "# Iterating over a list using for loop"
   ]
  },
  {
   "cell_type": "code",
   "execution_count": 29,
   "id": "9d25bb90",
   "metadata": {},
   "outputs": [],
   "source": [
    "list1 = [\"Asad\",\"Fahad\",\"Nasir\",\"Yasir\",\"Hassan\",\"Waqas\"]"
   ]
  },
  {
   "cell_type": "code",
   "execution_count": 39,
   "id": "81759c74",
   "metadata": {},
   "outputs": [
    {
     "name": "stdout",
     "output_type": "stream",
     "text": [
      "Welcome Mr. Asad\n",
      "Welcome Mr. Fahad\n",
      "Welcome Mr. Nasir\n",
      "Welcome Mr. Yasir\n",
      "Welcome Mr. Hassan\n",
      "Welcome Mr. Waqas\n"
     ]
    }
   ],
   "source": [
    "for name in list1:\n",
    "    print(f\"Welcome Mr. {name}\")"
   ]
  },
  {
   "cell_type": "code",
   "execution_count": 6,
   "id": "56d92b0e",
   "metadata": {},
   "outputs": [
    {
     "name": "stdout",
     "output_type": "stream",
     "text": [
      "Tell me guest name\n",
      "Tell me guest nameasad\n",
      "Tell me guest nameali\n",
      "Tell me guest nameali\n",
      "Tell me guest namenasir\n",
      "['ALI', 'NASIR']\n"
     ]
    }
   ],
   "source": [
    "guest_list=[]\n",
    "for a in range(5):\n",
    "    guest_name = input(\"Tell me guest name\").upper()\n",
    "    if (guest_name==\"ASAD\") or (guest_name in guest_list)  or (len(guest_name)==0):\n",
    "        continue\n",
    "    else:\n",
    "        guest_list.append(guest_name)\n",
    "print(guest_list)"
   ]
  },
  {
   "cell_type": "code",
   "execution_count": 3,
   "id": "69de0808",
   "metadata": {},
   "outputs": [
    {
     "data": {
      "text/plain": [
       "True"
      ]
     },
     "execution_count": 3,
     "metadata": {},
     "output_type": "execute_result"
    }
   ],
   "source": [
    "'SAAD' in guest_list"
   ]
  },
  {
   "cell_type": "code",
   "execution_count": 1,
   "id": "1e7c61d2",
   "metadata": {},
   "outputs": [
    {
     "name": "stdout",
     "output_type": "stream",
     "text": [
      "Tell me guest nameAli\n",
      "Tell me guest nameAli\n",
      "Tell me guest nameAsad\n",
      "Tell me guest nameshahid\n",
      "Tell me guest namebilal\n",
      "['ALI', 'ALI', 'SHAHID', 'BILAL']\n"
     ]
    }
   ],
   "source": [
    "guest_list=[]\n",
    "for a in range(5):\n",
    "    guest_name = input(\"Tell me guest name\").upper()\n",
    "    if guest_name!=\"ASAD\" or guest_name in guest_list:\n",
    "        guest_list.append(guest_name)\n",
    "print(guest_list)"
   ]
  },
  {
   "cell_type": "code",
   "execution_count": null,
   "id": "22369232",
   "metadata": {},
   "outputs": [],
   "source": []
  },
  {
   "cell_type": "code",
   "execution_count": null,
   "id": "7c3f8cb4",
   "metadata": {},
   "outputs": [],
   "source": []
  }
 ],
 "metadata": {
  "kernelspec": {
   "display_name": "Python 3 (ipykernel)",
   "language": "python",
   "name": "python3"
  },
  "language_info": {
   "codemirror_mode": {
    "name": "ipython",
    "version": 3
   },
   "file_extension": ".py",
   "mimetype": "text/x-python",
   "name": "python",
   "nbconvert_exporter": "python",
   "pygments_lexer": "ipython3",
   "version": "3.9.7"
  }
 },
 "nbformat": 4,
 "nbformat_minor": 5
}
