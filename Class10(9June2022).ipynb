{
 "cells": [
  {
   "cell_type": "code",
   "execution_count": 2,
   "id": "80692900",
   "metadata": {},
   "outputs": [],
   "source": [
    "name = \"PAKISTAN\""
   ]
  },
  {
   "cell_type": "code",
   "execution_count": 3,
   "id": "652efa31",
   "metadata": {},
   "outputs": [
    {
     "name": "stdout",
     "output_type": "stream",
     "text": [
      "NATSIKAP"
     ]
    }
   ],
   "source": [
    "for char in name[::-1]:\n",
    "    print(char,end='')\n",
    "    "
   ]
  },
  {
   "cell_type": "code",
   "execution_count": null,
   "id": "b71321d1",
   "metadata": {},
   "outputs": [],
   "source": [
    "#      -4 -3 -2 -1\n",
    "lst = [11,22,33,44]\n",
    "#       0  1  2  3"
   ]
  },
  {
   "cell_type": "code",
   "execution_count": null,
   "id": "3b124fd7",
   "metadata": {},
   "outputs": [],
   "source": [
    "lst[::-1]"
   ]
  },
  {
   "cell_type": "code",
   "execution_count": null,
   "id": "856a2e28",
   "metadata": {},
   "outputs": [],
   "source": [
    "lst[-1]"
   ]
  },
  {
   "cell_type": "code",
   "execution_count": 4,
   "id": "1c45750e",
   "metadata": {},
   "outputs": [],
   "source": [
    "lst1 = ['Nasir', 'Asad']\n",
    "lst2 = ['Hussain', 'Rafiq']"
   ]
  },
  {
   "cell_type": "code",
   "execution_count": 5,
   "id": "1d96ffd1",
   "metadata": {},
   "outputs": [
    {
     "name": "stdout",
     "output_type": "stream",
     "text": [
      "Nasir Hussain\n",
      "Nasir Rafiq\n",
      "Asad Hussain\n",
      "Asad Rafiq\n"
     ]
    }
   ],
   "source": [
    "for name in lst1:\n",
    "    for sirname in lst2:\n",
    "        print(f\"{name} {sirname}\")    "
   ]
  },
  {
   "cell_type": "code",
   "execution_count": 6,
   "id": "e6264465",
   "metadata": {},
   "outputs": [
    {
     "name": "stdout",
     "output_type": "stream",
     "text": [
      "Nasir Hussain\n",
      "Asad Rafiq\n"
     ]
    }
   ],
   "source": [
    "lst1 = ['Nasir', 'Asad']\n",
    "lst2 = ['Hussain', 'Rafiq']\n",
    "\n",
    "for a in lst1:\n",
    "    print(f\"{a} {lst2[lst1.index(a)]}\")\n",
    "     "
   ]
  },
  {
   "cell_type": "code",
   "execution_count": 7,
   "id": "d6f01774",
   "metadata": {},
   "outputs": [
    {
     "data": {
      "text/plain": [
       "'Hussain'"
      ]
     },
     "execution_count": 7,
     "metadata": {},
     "output_type": "execute_result"
    }
   ],
   "source": [
    "lst1.index('Nasir')\n",
    "lst2[lst1.index('Nasir')]"
   ]
  },
  {
   "cell_type": "code",
   "execution_count": 8,
   "id": "becd6dbb",
   "metadata": {},
   "outputs": [
    {
     "name": "stdout",
     "output_type": "stream",
     "text": [
      "1 1\n",
      "2 2\n",
      "3 3\n",
      "4 4\n",
      "5 5\n",
      "6 6\n",
      "7 7\n",
      "8 8\n"
     ]
    }
   ],
   "source": [
    "val1 =[1,2,3,4,5,6,7,8]\n",
    "val2 = [1,2,3,4,5,6,7,8]\n",
    "for a in val1:\n",
    "    print(f\"{a} {val2[val1.index(a)]}\")\n",
    "     "
   ]
  },
  {
   "cell_type": "markdown",
   "id": "e3cc85ba",
   "metadata": {},
   "source": [
    "# Dictionary"
   ]
  },
  {
   "cell_type": "code",
   "execution_count": null,
   "id": "2dfff747",
   "metadata": {},
   "outputs": [],
   "source": [
    "# empty dictionary\n",
    "dictionary = {}\n",
    "type(dictionary)"
   ]
  },
  {
   "cell_type": "code",
   "execution_count": null,
   "id": "4a8e9aee",
   "metadata": {},
   "outputs": [],
   "source": [
    "# adictionary with keys nad vaLUES\n",
    "dictionary={'name':'Saylani', 'campus':'Gulshan', 'course':'DSAI'}\n",
    " #             key    value       key    value       key    value"
   ]
  },
  {
   "cell_type": "code",
   "execution_count": null,
   "id": "077af377",
   "metadata": {},
   "outputs": [],
   "source": [
    "# fetching a value by using its keys\n",
    "dictionary['campus']"
   ]
  },
  {
   "cell_type": "code",
   "execution_count": null,
   "id": "2c5aa69a",
   "metadata": {},
   "outputs": [],
   "source": [
    "dictionary['name']"
   ]
  },
  {
   "cell_type": "code",
   "execution_count": null,
   "id": "b2fa3119",
   "metadata": {},
   "outputs": [],
   "source": [
    "# adding a new key value pair into a dictionary\n",
    "dictionary['teacher']='Nasir'"
   ]
  },
  {
   "cell_type": "code",
   "execution_count": null,
   "id": "fb198189",
   "metadata": {},
   "outputs": [],
   "source": [
    "dictionary"
   ]
  },
  {
   "cell_type": "code",
   "execution_count": null,
   "id": "3d7f9008",
   "metadata": {},
   "outputs": [],
   "source": [
    "# UPDAting a values against a key\n",
    "\n",
    "dictionary['teacher']=\"Abdullah\"\n",
    "dictionary"
   ]
  },
  {
   "cell_type": "code",
   "execution_count": null,
   "id": "98e6d901",
   "metadata": {},
   "outputs": [],
   "source": [
    "del dictionary['course']\n",
    "dictionary\n"
   ]
  },
  {
   "cell_type": "code",
   "execution_count": 2,
   "id": "4a3a1f54",
   "metadata": {},
   "outputs": [
    {
     "data": {
      "text/plain": [
       "{'babar': 45, 'rizwan': 89, 'fakhar': 7}"
      ]
     },
     "execution_count": 2,
     "metadata": {},
     "output_type": "execute_result"
    }
   ],
   "source": [
    "score = {'babar':45, \"rizwan\":89,\"fakhar\":7}\n",
    "score"
   ]
  },
  {
   "cell_type": "code",
   "execution_count": null,
   "id": "10330cc4",
   "metadata": {},
   "outputs": [],
   "source": [
    "rollnumns={1:\"nasir\", 2:'hasan'}\n",
    "rollnumns"
   ]
  },
  {
   "cell_type": "code",
   "execution_count": null,
   "id": "03b90762",
   "metadata": {},
   "outputs": [],
   "source": [
    "for a in score:\n",
    "    print(a)"
   ]
  },
  {
   "cell_type": "code",
   "execution_count": null,
   "id": "22a051a3",
   "metadata": {},
   "outputs": [],
   "source": [
    "for a in score.keys():\n",
    "    print(a)"
   ]
  },
  {
   "cell_type": "code",
   "execution_count": null,
   "id": "0ad510b3",
   "metadata": {},
   "outputs": [],
   "source": [
    "for a in score.values():\n",
    "    print(a)"
   ]
  },
  {
   "cell_type": "code",
   "execution_count": null,
   "id": "14ad639d",
   "metadata": {},
   "outputs": [],
   "source": [
    "for a in score.items():\n",
    "    print(a)\n",
    "    "
   ]
  },
  {
   "cell_type": "code",
   "execution_count": 3,
   "id": "407c4704",
   "metadata": {},
   "outputs": [
    {
     "name": "stdout",
     "output_type": "stream",
     "text": [
      "key:babar  value:45 \n",
      "key:rizwan  value:89 \n",
      "key:fakhar  value:7 \n"
     ]
    }
   ],
   "source": [
    "for key,val in score.items():\n",
    "    print(f\"key:{key}  value:{val} \")"
   ]
  },
  {
   "cell_type": "code",
   "execution_count": null,
   "id": "0a579730",
   "metadata": {},
   "outputs": [],
   "source": [
    "for key in score.keys():\n",
    "    print(score[key])"
   ]
  },
  {
   "cell_type": "code",
   "execution_count": null,
   "id": "4fb12c29",
   "metadata": {},
   "outputs": [],
   "source": [
    "name,score = 'babar', 100"
   ]
  },
  {
   "cell_type": "code",
   "execution_count": null,
   "id": "eabfba9e",
   "metadata": {},
   "outputs": [],
   "source": [
    "name"
   ]
  },
  {
   "cell_type": "code",
   "execution_count": null,
   "id": "619b58c9",
   "metadata": {},
   "outputs": [],
   "source": [
    "score"
   ]
  },
  {
   "cell_type": "code",
   "execution_count": null,
   "id": "cbf26922",
   "metadata": {},
   "outputs": [],
   "source": [
    "a = (10, 23)\n",
    "a"
   ]
  },
  {
   "cell_type": "code",
   "execution_count": null,
   "id": "79eb082a",
   "metadata": {},
   "outputs": [],
   "source": []
  }
 ],
 "metadata": {
  "kernelspec": {
   "display_name": "Python 3 (ipykernel)",
   "language": "python",
   "name": "python3"
  },
  "language_info": {
   "codemirror_mode": {
    "name": "ipython",
    "version": 3
   },
   "file_extension": ".py",
   "mimetype": "text/x-python",
   "name": "python",
   "nbconvert_exporter": "python",
   "pygments_lexer": "ipython3",
   "version": "3.9.7"
  }
 },
 "nbformat": 4,
 "nbformat_minor": 5
}
